{
 "cells": [
  {
   "attachments": {},
   "cell_type": "markdown",
   "metadata": {},
   "source": [
    "# Informações Relevantes sobre os dados\n",
    "\n",
    "Esse *dataset* foi disponibilizado publicamente no site da UCI Machine Learning Repository, disponível em: <http://archive.ics.uci.edu/ml/datasets/Bank+Marketing>. \n",
    "\n",
    "Os dados foram coletados do Banco de Portugal, em: <https://www.bportugal.pt/estatisticasweb>\n",
    "\n",
    "\n",
    "# Variáveis Analisadas\n",
    "\n",
    "### Características dos clientes:\n",
    "\n",
    "1 - [idade] age (numeric)\n",
    "\n",
    "2 - [emprego] job : type of job (categorical: \"admin.\",\"blue-collar\",\"entrepreneur\",\"housemaid\",\"management\",\"retired\",\"self-employed\",\"services\",\"student\",\"technician\",\"unemployed\",\"unknown\")\n",
    "\n",
    "3 - [estado_civil] marital : marital status (categorical: \"divorced\",\"married\",\"single\",\"unknown\"; note: \"divorced\" means divorced or widowed)\n",
    "\n",
    "4 - [educação] education (categorical: \"basic.4y\",\"basic.6y\",\"basic.9y\",\"high.school\",\"illiterate\",\"professional.course\",\"university.degree\",\"unknown\")\n",
    "\n",
    "5 - [inadimplência] default: has credit in default? (categorical: \"no\",\"yes\",\"unknown\")\n",
    "\n",
    "6 - [empréstimo_imobiliario] housing: has housing loan? (categorical: \"no\",\"yes\",\"unknown\")\n",
    "\n",
    "7 - [empréstimo]: has personal loan? (categorical: \"no\",\"yes\",\"unknown\")\n",
    "\n",
    "### Último contato feito:\n",
    "\n",
    "8 - [forma_contato] contact: contact communication type (categorical: \"cellular\",\"telephone\") \n",
    "\n",
    "9 - [mês_contato] month: last contact month of year (categorical: \"jan\", \"feb\", \"mar\", ..., \"nov\", \"dec\")\n",
    "\n",
    "10 - [dia_contato] day_of_week: last contact day of the week (categorical: \"mon\",\"tue\",\"wed\",\"thu\",\"fri\")\n",
    "\n",
    "11 - [duração_contato] duration: last contact duration, in seconds (numeric). Important note:  this attribute highly affects the output target (e.g., if duration=0 then y=\"no\"). Yet, the duration is not known before a call is performed. Also, after the end of the call y is obviously known. Thus, this input should only be included for benchmark purposes and should be discarded if the intention is to have a realistic predictive model.\n",
    "\n",
    "### Outros atributos do cliente na campanha:\n",
    "\n",
    "12 - [num_contatos] campaign: number of contacts performed during this campaign and for this client (numeric, includes last contact)\n",
    "\n",
    "13 - [dias_ultimo_contato] pdays: number of days that passed by after the client was last contacted from a previous campaign (numeric; 999 means client was not previously contacted)\n",
    "\n",
    "14 - [contatos_anteriores] previous: number of contacts performed before this campaign and for this client (numeric)\n",
    "\n",
    "15 - [resultado_anterior] poutcome: outcome of the previous marketing campaign (categorical: \"failure\",\"nonexistent\",\"success\")\n",
    "\n",
    "### Contexto socioeconômico dos clientes:\n",
    "\n",
    "16 - [indice_desemprego] emp.var.rate: employment variation rate - quarterly indicator (numeric)\n",
    "\n",
    "17 - [CPI] cons.price.idx: consumer price index - monthly indicator (numeric)     \n",
    "\n",
    "18 - [CCI] cons.conf.idx: consumer confidence index - monthly indicator (numeric)  \n",
    "\n",
    "19 - [Euribor] euribor3m: euribor 3 month rate - daily indicator (numeric)\n",
    "\n",
    "20 - [num_empregados] nr.employed: number of employees - quarterly indicator (numeric)\n",
    "\n",
    "### Variável-Alvo:\n",
    "\n",
    "21 - [resultado] y: has the client subscribed a term deposit? (binary: \"yes\",\"no\")\n",
    "\n",
    "# Valores Faltantes\n",
    "\n",
    "Todos os valores faltantes foram imputados como \"unknown\"."
   ]
  },
  {
   "attachments": {},
   "cell_type": "markdown",
   "metadata": {},
   "source": [
    "# Importação de Dados"
   ]
  },
  {
   "cell_type": "code",
   "execution_count": 1,
   "metadata": {},
   "outputs": [],
   "source": [
    "import numpy as np\n",
    "import pandas as pd\n",
    "import seaborn as sns\n",
    "import matplotlib.pyplot as plt\n",
    "import plotly.express as px\n",
    "import warnings\n",
    "warnings.filterwarnings(action='ignore')"
   ]
  },
  {
   "cell_type": "code",
   "execution_count": 2,
   "metadata": {},
   "outputs": [
    {
     "data": {
      "text/html": [
       "<div>\n",
       "<style scoped>\n",
       "    .dataframe tbody tr th:only-of-type {\n",
       "        vertical-align: middle;\n",
       "    }\n",
       "\n",
       "    .dataframe tbody tr th {\n",
       "        vertical-align: top;\n",
       "    }\n",
       "\n",
       "    .dataframe thead th {\n",
       "        text-align: right;\n",
       "    }\n",
       "</style>\n",
       "<table border=\"1\" class=\"dataframe\">\n",
       "  <thead>\n",
       "    <tr style=\"text-align: right;\">\n",
       "      <th></th>\n",
       "      <th>idade</th>\n",
       "      <th>emprego</th>\n",
       "      <th>estado_civil</th>\n",
       "      <th>educacao</th>\n",
       "      <th>inadimplencia</th>\n",
       "      <th>emprestimo_imobiliario</th>\n",
       "      <th>emprestimo</th>\n",
       "      <th>forma_contato</th>\n",
       "      <th>mes_contato</th>\n",
       "      <th>dia_contato</th>\n",
       "      <th>...</th>\n",
       "      <th>num_contatos</th>\n",
       "      <th>dias_ultimo_contato</th>\n",
       "      <th>contatos_anteriores</th>\n",
       "      <th>resultado_anterior</th>\n",
       "      <th>indice_desemprego</th>\n",
       "      <th>CPI</th>\n",
       "      <th>CCI</th>\n",
       "      <th>Euribor</th>\n",
       "      <th>num_empregados</th>\n",
       "      <th>resultado</th>\n",
       "    </tr>\n",
       "  </thead>\n",
       "  <tbody>\n",
       "    <tr>\n",
       "      <th>0</th>\n",
       "      <td>56</td>\n",
       "      <td>housemaid</td>\n",
       "      <td>married</td>\n",
       "      <td>basic.4y</td>\n",
       "      <td>no</td>\n",
       "      <td>no</td>\n",
       "      <td>no</td>\n",
       "      <td>telephone</td>\n",
       "      <td>may</td>\n",
       "      <td>mon</td>\n",
       "      <td>...</td>\n",
       "      <td>1</td>\n",
       "      <td>999</td>\n",
       "      <td>0</td>\n",
       "      <td>nonexistent</td>\n",
       "      <td>1.1</td>\n",
       "      <td>93.994</td>\n",
       "      <td>-36.4</td>\n",
       "      <td>4.857</td>\n",
       "      <td>5191.0</td>\n",
       "      <td>no</td>\n",
       "    </tr>\n",
       "    <tr>\n",
       "      <th>1</th>\n",
       "      <td>57</td>\n",
       "      <td>services</td>\n",
       "      <td>married</td>\n",
       "      <td>high.school</td>\n",
       "      <td>unknown</td>\n",
       "      <td>no</td>\n",
       "      <td>no</td>\n",
       "      <td>telephone</td>\n",
       "      <td>may</td>\n",
       "      <td>mon</td>\n",
       "      <td>...</td>\n",
       "      <td>1</td>\n",
       "      <td>999</td>\n",
       "      <td>0</td>\n",
       "      <td>nonexistent</td>\n",
       "      <td>1.1</td>\n",
       "      <td>93.994</td>\n",
       "      <td>-36.4</td>\n",
       "      <td>4.857</td>\n",
       "      <td>5191.0</td>\n",
       "      <td>no</td>\n",
       "    </tr>\n",
       "    <tr>\n",
       "      <th>2</th>\n",
       "      <td>37</td>\n",
       "      <td>services</td>\n",
       "      <td>married</td>\n",
       "      <td>high.school</td>\n",
       "      <td>no</td>\n",
       "      <td>yes</td>\n",
       "      <td>no</td>\n",
       "      <td>telephone</td>\n",
       "      <td>may</td>\n",
       "      <td>mon</td>\n",
       "      <td>...</td>\n",
       "      <td>1</td>\n",
       "      <td>999</td>\n",
       "      <td>0</td>\n",
       "      <td>nonexistent</td>\n",
       "      <td>1.1</td>\n",
       "      <td>93.994</td>\n",
       "      <td>-36.4</td>\n",
       "      <td>4.857</td>\n",
       "      <td>5191.0</td>\n",
       "      <td>no</td>\n",
       "    </tr>\n",
       "    <tr>\n",
       "      <th>3</th>\n",
       "      <td>40</td>\n",
       "      <td>admin.</td>\n",
       "      <td>married</td>\n",
       "      <td>basic.6y</td>\n",
       "      <td>no</td>\n",
       "      <td>no</td>\n",
       "      <td>no</td>\n",
       "      <td>telephone</td>\n",
       "      <td>may</td>\n",
       "      <td>mon</td>\n",
       "      <td>...</td>\n",
       "      <td>1</td>\n",
       "      <td>999</td>\n",
       "      <td>0</td>\n",
       "      <td>nonexistent</td>\n",
       "      <td>1.1</td>\n",
       "      <td>93.994</td>\n",
       "      <td>-36.4</td>\n",
       "      <td>4.857</td>\n",
       "      <td>5191.0</td>\n",
       "      <td>no</td>\n",
       "    </tr>\n",
       "    <tr>\n",
       "      <th>4</th>\n",
       "      <td>56</td>\n",
       "      <td>services</td>\n",
       "      <td>married</td>\n",
       "      <td>high.school</td>\n",
       "      <td>no</td>\n",
       "      <td>no</td>\n",
       "      <td>yes</td>\n",
       "      <td>telephone</td>\n",
       "      <td>may</td>\n",
       "      <td>mon</td>\n",
       "      <td>...</td>\n",
       "      <td>1</td>\n",
       "      <td>999</td>\n",
       "      <td>0</td>\n",
       "      <td>nonexistent</td>\n",
       "      <td>1.1</td>\n",
       "      <td>93.994</td>\n",
       "      <td>-36.4</td>\n",
       "      <td>4.857</td>\n",
       "      <td>5191.0</td>\n",
       "      <td>no</td>\n",
       "    </tr>\n",
       "  </tbody>\n",
       "</table>\n",
       "<p>5 rows × 21 columns</p>\n",
       "</div>"
      ],
      "text/plain": [
       "   idade    emprego estado_civil     educacao inadimplencia   \n",
       "0     56  housemaid      married     basic.4y            no  \\\n",
       "1     57   services      married  high.school       unknown   \n",
       "2     37   services      married  high.school            no   \n",
       "3     40     admin.      married     basic.6y            no   \n",
       "4     56   services      married  high.school            no   \n",
       "\n",
       "  emprestimo_imobiliario emprestimo forma_contato mes_contato dia_contato   \n",
       "0                     no         no     telephone         may         mon  \\\n",
       "1                     no         no     telephone         may         mon   \n",
       "2                    yes         no     telephone         may         mon   \n",
       "3                     no         no     telephone         may         mon   \n",
       "4                     no        yes     telephone         may         mon   \n",
       "\n",
       "   ...  num_contatos  dias_ultimo_contato  contatos_anteriores   \n",
       "0  ...             1                  999                    0  \\\n",
       "1  ...             1                  999                    0   \n",
       "2  ...             1                  999                    0   \n",
       "3  ...             1                  999                    0   \n",
       "4  ...             1                  999                    0   \n",
       "\n",
       "   resultado_anterior indice_desemprego     CPI   CCI  Euribor   \n",
       "0         nonexistent               1.1  93.994 -36.4    4.857  \\\n",
       "1         nonexistent               1.1  93.994 -36.4    4.857   \n",
       "2         nonexistent               1.1  93.994 -36.4    4.857   \n",
       "3         nonexistent               1.1  93.994 -36.4    4.857   \n",
       "4         nonexistent               1.1  93.994 -36.4    4.857   \n",
       "\n",
       "   num_empregados  resultado  \n",
       "0          5191.0         no  \n",
       "1          5191.0         no  \n",
       "2          5191.0         no  \n",
       "3          5191.0         no  \n",
       "4          5191.0         no  \n",
       "\n",
       "[5 rows x 21 columns]"
      ]
     },
     "execution_count": 2,
     "metadata": {},
     "output_type": "execute_result"
    }
   ],
   "source": [
    "dados = pd.read_csv(\"../dados/bank-additional-full.csv\", sep=\";\")\n",
    "\n",
    "dados = dados.rename(columns={\n",
    "    \"age\":\"idade\",\n",
    "    \"job\":\"emprego\",\n",
    "    \"marital\":\"estado_civil\",\n",
    "    \"education\":\"educacao\",\n",
    "    \"default\":\"inadimplencia\",\n",
    "    \"housing\":\"emprestimo_imobiliario\",\n",
    "    \"loan\":\"emprestimo\",\n",
    "    \"contact\":\"forma_contato\",\n",
    "    \"month\":\"mes_contato\",\n",
    "    \"day_of_week\":\"dia_contato\",\n",
    "    \"duration\":\"duracao_contato\",\n",
    "    \"campaign\":\"num_contatos\",\n",
    "    \"pdays\":\"dias_ultimo_contato\",\n",
    "    \"previous\":\"contatos_anteriores\",\n",
    "    \"poutcome\":\"resultado_anterior\",\n",
    "    \"emp.var.rate\":\"indice_desemprego\",\n",
    "    \"cons.price.idx\":\"CPI\",\n",
    "    \"cons.conf.idx\":\"CCI\",\n",
    "    \"euribor3m\":\"Euribor\",\n",
    "    \"nr.employed\":\"num_empregados\",\n",
    "    \"y\":\"resultado\"\n",
    "})\n",
    "dados.head()"
   ]
  },
  {
   "attachments": {},
   "cell_type": "markdown",
   "metadata": {},
   "source": [
    "# Limpeza de Dados"
   ]
  },
  {
   "attachments": {},
   "cell_type": "markdown",
   "metadata": {},
   "source": [
    "Devemos verificar:\n",
    "* estrutura\n",
    "* granularidade\n",
    "* escopo\n",
    "* temporalidade\n",
    "* corretude\n",
    "\n",
    "Operações:\n",
    "* Limpeza de NAs\n",
    "* padronizações\n",
    "* tipagem"
   ]
  },
  {
   "attachments": {},
   "cell_type": "markdown",
   "metadata": {},
   "source": [
    "## Lidando com os NA's"
   ]
  },
  {
   "attachments": {},
   "cell_type": "markdown",
   "metadata": {},
   "source": [
    "Os dados faltantes das colunas de \"Características dos Clientes\" foram imputados com a palavra \"unknown\". Para tratá-los, precisamos transformá-los em NaNs.\n",
    "\n",
    "Além disso, os valores faltantes da coluna \"pdays\" foram imputados com \"999\". "
   ]
  },
  {
   "cell_type": "code",
   "execution_count": 3,
   "metadata": {},
   "outputs": [],
   "source": [
    "df = dados.copy()\n",
    "df = df.apply(lambda x: x.replace('unknown', np.nan))\n",
    "df[\"dias_ultimo_contato\"] = df[\"dias_ultimo_contato\"].replace(999, np.nan)"
   ]
  },
  {
   "cell_type": "code",
   "execution_count": 4,
   "metadata": {},
   "outputs": [
    {
     "name": "stdout",
     "output_type": "stream",
     "text": [
      "<class 'pandas.core.frame.DataFrame'>\n",
      "RangeIndex: 41188 entries, 0 to 41187\n",
      "Data columns (total 21 columns):\n",
      " #   Column                  Non-Null Count  Dtype  \n",
      "---  ------                  --------------  -----  \n",
      " 0   idade                   41188 non-null  int64  \n",
      " 1   emprego                 40858 non-null  object \n",
      " 2   estado_civil            41108 non-null  object \n",
      " 3   educacao                39457 non-null  object \n",
      " 4   inadimplencia           32591 non-null  object \n",
      " 5   emprestimo_imobiliario  40198 non-null  object \n",
      " 6   emprestimo              40198 non-null  object \n",
      " 7   forma_contato           41188 non-null  object \n",
      " 8   mes_contato             41188 non-null  object \n",
      " 9   dia_contato             41188 non-null  object \n",
      " 10  duracao_contato         41188 non-null  int64  \n",
      " 11  num_contatos            41188 non-null  int64  \n",
      " 12  dias_ultimo_contato     1515 non-null   float64\n",
      " 13  contatos_anteriores     41188 non-null  int64  \n",
      " 14  resultado_anterior      41188 non-null  object \n",
      " 15  indice_desemprego       41188 non-null  float64\n",
      " 16  CPI                     41188 non-null  float64\n",
      " 17  CCI                     41188 non-null  float64\n",
      " 18  Euribor                 41188 non-null  float64\n",
      " 19  num_empregados          41188 non-null  float64\n",
      " 20  resultado               41188 non-null  object \n",
      "dtypes: float64(6), int64(4), object(11)\n",
      "memory usage: 6.6+ MB\n"
     ]
    }
   ],
   "source": [
    "df.info() #"
   ]
  },
  {
   "attachments": {},
   "cell_type": "markdown",
   "metadata": {},
   "source": [
    "Podemos observar que há valores faltantes nas colunas \"inadimplência\", \"educação\", \"emprego\", \"empréstomo_imobiliário\", \"empréstimo\" e \"dias_último_contato\". Vamos verificar o quanto isso representa do total de amostras, individualmente."
   ]
  },
  {
   "cell_type": "code",
   "execution_count": 5,
   "metadata": {},
   "outputs": [
    {
     "data": {
      "text/plain": [
       "dias_ultimo_contato       0.963217\n",
       "inadimplencia             0.208726\n",
       "educacao                  0.042027\n",
       "emprestimo_imobiliario    0.024036\n",
       "emprestimo                0.024036\n",
       "emprego                   0.008012\n",
       "dtype: float64"
      ]
     },
     "execution_count": 5,
     "metadata": {},
     "output_type": "execute_result"
    }
   ],
   "source": [
    "tmp = df[[\"inadimplencia\", \"educacao\", \"emprego\", \"emprestimo_imobiliario\", \"emprestimo\", \"dias_ultimo_contato\"]]\n",
    "tmp.isna().sum().sort_values(ascending=False)/len(df)"
   ]
  },
  {
   "attachments": {},
   "cell_type": "markdown",
   "metadata": {},
   "source": [
    "As colunas que contém +5% de NA's em relação à quantidade total de observações são: \"default\" e \"pdays\". Vamos verificar a correlação entre elas e o alvo. Caso não seja significante (+5%), optaremos por apagá-las assumindo que não haverá perda de informação.\n",
    "\n",
    "Já as outras colunas contém uma baixa quantidade de dados faltantes, por isso é razoável remover todas as linhas que contenham ao menos um dado faltante."
   ]
  },
  {
   "cell_type": "code",
   "execution_count": 6,
   "metadata": {},
   "outputs": [
    {
     "name": "stdout",
     "output_type": "stream",
     "text": [
      "correlação dias_ultimo_contato-resultado: -0.04\n",
      "correlação inadimplencia-resultado: -0.0\n"
     ]
    }
   ],
   "source": [
    "tmp = df[[\"dias_ultimo_contato\",\"resultado\"]]\n",
    "tmp = tmp.apply(lambda x: x.replace('no', 0))\n",
    "tmp = tmp.apply(lambda x: x.replace('yes', 1))\n",
    "\n",
    "print(\"correlação dias_ultimo_contato-resultado:\", tmp.corr()[\"resultado\"][0].round(2))\n",
    "\n",
    "tmp = df[[\"inadimplencia\",\"resultado\"]]\n",
    "tmp = tmp.apply(lambda x: x.replace('no', 0))\n",
    "tmp = tmp.apply(lambda x: x.replace('yes', 1))\n",
    "\n",
    "print(\"correlação inadimplencia-resultado:\", tmp.corr()[\"resultado\"][0].round(2))\n",
    "\n",
    "df.drop([\"inadimplencia\", \"dias_ultimo_contato\"], axis=1, inplace=True) # apaga as colunas\n",
    "df.dropna(inplace=True) # apaga os NA's das linhas restantes"
   ]
  },
  {
   "attachments": {},
   "cell_type": "markdown",
   "metadata": {},
   "source": [
    "# Análise Exploratória dos Dados (apontar padrões e formular perguntas)"
   ]
  },
  {
   "attachments": {},
   "cell_type": "markdown",
   "metadata": {},
   "source": [
    "Vamos verificar a maneira como os dados estão descritos.\n",
    "\n",
    "O primeiro ponto a se considerar é de que o pandas realiza a tipagem das colunas de forma automática. Nesse sentido, caso haja algum NA na coluna, o csv viria com \"unknown\" e por conta dessa string, todos os dados da coluna seriam convertidos para o tipo \"object\", ou seja, não numérico. Como as únicas colunas que continham NA's são categóricas não ordinais, nenhuma tipagem foi feita de maneira errada. \n",
    "\n",
    "Dessa forma, a partir da função `df.info`, podemos verificar que as variáveis que contém números são: 'duration', 'campaign', 'pdays', 'previous', 'poutcome', 'emp.var.rate', 'cons.price.idx', 'cons.conf.idx', 'euribor3m', 'nr.employed'. Ao visualizá-las, confirma-se que as variáveis  \n"
   ]
  },
  {
   "cell_type": "code",
   "execution_count": 7,
   "metadata": {},
   "outputs": [
    {
     "name": "stdout",
     "output_type": "stream",
     "text": [
      "Nomes das colunas:  ['idade', 'emprego', 'estado_civil', 'educacao', 'emprestimo_imobiliario', 'emprestimo', 'forma_contato', 'mes_contato', 'dia_contato', 'duracao_contato', 'num_contatos', 'contatos_anteriores', 'resultado_anterior', 'indice_desemprego', 'CPI', 'CCI', 'Euribor', 'num_empregados', 'resultado']\n"
     ]
    },
    {
     "data": {
      "text/html": [
       "<div>\n",
       "<style scoped>\n",
       "    .dataframe tbody tr th:only-of-type {\n",
       "        vertical-align: middle;\n",
       "    }\n",
       "\n",
       "    .dataframe tbody tr th {\n",
       "        vertical-align: top;\n",
       "    }\n",
       "\n",
       "    .dataframe thead th {\n",
       "        text-align: right;\n",
       "    }\n",
       "</style>\n",
       "<table border=\"1\" class=\"dataframe\">\n",
       "  <thead>\n",
       "    <tr style=\"text-align: right;\">\n",
       "      <th></th>\n",
       "      <th>duracao_contato</th>\n",
       "      <th>num_contatos</th>\n",
       "      <th>contatos_anteriores</th>\n",
       "      <th>resultado_anterior</th>\n",
       "      <th>indice_desemprego</th>\n",
       "      <th>CPI</th>\n",
       "      <th>CCI</th>\n",
       "      <th>Euribor</th>\n",
       "      <th>num_empregados</th>\n",
       "      <th>resultado</th>\n",
       "    </tr>\n",
       "  </thead>\n",
       "  <tbody>\n",
       "    <tr>\n",
       "      <th>0</th>\n",
       "      <td>261</td>\n",
       "      <td>1</td>\n",
       "      <td>0</td>\n",
       "      <td>nonexistent</td>\n",
       "      <td>1.1</td>\n",
       "      <td>93.994</td>\n",
       "      <td>-36.4</td>\n",
       "      <td>4.857</td>\n",
       "      <td>5191.0</td>\n",
       "      <td>no</td>\n",
       "    </tr>\n",
       "    <tr>\n",
       "      <th>1</th>\n",
       "      <td>149</td>\n",
       "      <td>1</td>\n",
       "      <td>0</td>\n",
       "      <td>nonexistent</td>\n",
       "      <td>1.1</td>\n",
       "      <td>93.994</td>\n",
       "      <td>-36.4</td>\n",
       "      <td>4.857</td>\n",
       "      <td>5191.0</td>\n",
       "      <td>no</td>\n",
       "    </tr>\n",
       "    <tr>\n",
       "      <th>2</th>\n",
       "      <td>226</td>\n",
       "      <td>1</td>\n",
       "      <td>0</td>\n",
       "      <td>nonexistent</td>\n",
       "      <td>1.1</td>\n",
       "      <td>93.994</td>\n",
       "      <td>-36.4</td>\n",
       "      <td>4.857</td>\n",
       "      <td>5191.0</td>\n",
       "      <td>no</td>\n",
       "    </tr>\n",
       "    <tr>\n",
       "      <th>3</th>\n",
       "      <td>151</td>\n",
       "      <td>1</td>\n",
       "      <td>0</td>\n",
       "      <td>nonexistent</td>\n",
       "      <td>1.1</td>\n",
       "      <td>93.994</td>\n",
       "      <td>-36.4</td>\n",
       "      <td>4.857</td>\n",
       "      <td>5191.0</td>\n",
       "      <td>no</td>\n",
       "    </tr>\n",
       "    <tr>\n",
       "      <th>4</th>\n",
       "      <td>307</td>\n",
       "      <td>1</td>\n",
       "      <td>0</td>\n",
       "      <td>nonexistent</td>\n",
       "      <td>1.1</td>\n",
       "      <td>93.994</td>\n",
       "      <td>-36.4</td>\n",
       "      <td>4.857</td>\n",
       "      <td>5191.0</td>\n",
       "      <td>no</td>\n",
       "    </tr>\n",
       "  </tbody>\n",
       "</table>\n",
       "</div>"
      ],
      "text/plain": [
       "   duracao_contato  num_contatos  contatos_anteriores resultado_anterior   \n",
       "0              261             1                    0        nonexistent  \\\n",
       "1              149             1                    0        nonexistent   \n",
       "2              226             1                    0        nonexistent   \n",
       "3              151             1                    0        nonexistent   \n",
       "4              307             1                    0        nonexistent   \n",
       "\n",
       "   indice_desemprego     CPI   CCI  Euribor  num_empregados resultado  \n",
       "0                1.1  93.994 -36.4    4.857          5191.0        no  \n",
       "1                1.1  93.994 -36.4    4.857          5191.0        no  \n",
       "2                1.1  93.994 -36.4    4.857          5191.0        no  \n",
       "3                1.1  93.994 -36.4    4.857          5191.0        no  \n",
       "4                1.1  93.994 -36.4    4.857          5191.0        no  "
      ]
     },
     "execution_count": 7,
     "metadata": {},
     "output_type": "execute_result"
    }
   ],
   "source": [
    "print(\"Nomes das colunas: \", list(df.columns))\n",
    "df.iloc[:, 9:19].head() # Colunas numéricas\n",
    "# fazer analises"
   ]
  },
  {
   "attachments": {},
   "cell_type": "markdown",
   "metadata": {},
   "source": [
    "### Visualização das estatísticas descritivas"
   ]
  },
  {
   "cell_type": "code",
   "execution_count": 8,
   "metadata": {},
   "outputs": [
    {
     "data": {
      "text/html": [
       "<div>\n",
       "<style scoped>\n",
       "    .dataframe tbody tr th:only-of-type {\n",
       "        vertical-align: middle;\n",
       "    }\n",
       "\n",
       "    .dataframe tbody tr th {\n",
       "        vertical-align: top;\n",
       "    }\n",
       "\n",
       "    .dataframe thead th {\n",
       "        text-align: right;\n",
       "    }\n",
       "</style>\n",
       "<table border=\"1\" class=\"dataframe\">\n",
       "  <thead>\n",
       "    <tr style=\"text-align: right;\">\n",
       "      <th></th>\n",
       "      <th>emprego</th>\n",
       "      <th>estado_civil</th>\n",
       "      <th>educacao</th>\n",
       "      <th>emprestimo_imobiliario</th>\n",
       "      <th>emprestimo</th>\n",
       "      <th>forma_contato</th>\n",
       "      <th>mes_contato</th>\n",
       "      <th>dia_contato</th>\n",
       "      <th>resultado_anterior</th>\n",
       "      <th>resultado</th>\n",
       "    </tr>\n",
       "  </thead>\n",
       "  <tbody>\n",
       "    <tr>\n",
       "      <th>count</th>\n",
       "      <td>38245</td>\n",
       "      <td>38245</td>\n",
       "      <td>38245</td>\n",
       "      <td>38245</td>\n",
       "      <td>38245</td>\n",
       "      <td>38245</td>\n",
       "      <td>38245</td>\n",
       "      <td>38245</td>\n",
       "      <td>38245</td>\n",
       "      <td>38245</td>\n",
       "    </tr>\n",
       "    <tr>\n",
       "      <th>unique</th>\n",
       "      <td>11</td>\n",
       "      <td>3</td>\n",
       "      <td>7</td>\n",
       "      <td>2</td>\n",
       "      <td>2</td>\n",
       "      <td>2</td>\n",
       "      <td>10</td>\n",
       "      <td>5</td>\n",
       "      <td>3</td>\n",
       "      <td>2</td>\n",
       "    </tr>\n",
       "    <tr>\n",
       "      <th>top</th>\n",
       "      <td>admin.</td>\n",
       "      <td>married</td>\n",
       "      <td>university.degree</td>\n",
       "      <td>yes</td>\n",
       "      <td>no</td>\n",
       "      <td>cellular</td>\n",
       "      <td>may</td>\n",
       "      <td>thu</td>\n",
       "      <td>nonexistent</td>\n",
       "      <td>no</td>\n",
       "    </tr>\n",
       "    <tr>\n",
       "      <th>freq</th>\n",
       "      <td>9937</td>\n",
       "      <td>23183</td>\n",
       "      <td>11821</td>\n",
       "      <td>20578</td>\n",
       "      <td>32286</td>\n",
       "      <td>24441</td>\n",
       "      <td>12794</td>\n",
       "      <td>8011</td>\n",
       "      <td>33066</td>\n",
       "      <td>33987</td>\n",
       "    </tr>\n",
       "  </tbody>\n",
       "</table>\n",
       "</div>"
      ],
      "text/plain": [
       "       emprego estado_civil           educacao emprestimo_imobiliario   \n",
       "count    38245        38245              38245                  38245  \\\n",
       "unique      11            3                  7                      2   \n",
       "top     admin.      married  university.degree                    yes   \n",
       "freq      9937        23183              11821                  20578   \n",
       "\n",
       "       emprestimo forma_contato mes_contato dia_contato resultado_anterior   \n",
       "count       38245         38245       38245       38245              38245  \\\n",
       "unique          2             2          10           5                  3   \n",
       "top            no      cellular         may         thu        nonexistent   \n",
       "freq        32286         24441       12794        8011              33066   \n",
       "\n",
       "       resultado  \n",
       "count      38245  \n",
       "unique         2  \n",
       "top           no  \n",
       "freq       33987  "
      ]
     },
     "execution_count": 8,
     "metadata": {},
     "output_type": "execute_result"
    }
   ],
   "source": [
    "df.describe(include=\"object\") # Categóricas"
   ]
  },
  {
   "cell_type": "code",
   "execution_count": 9,
   "metadata": {},
   "outputs": [
    {
     "data": {
      "text/html": [
       "<div>\n",
       "<style scoped>\n",
       "    .dataframe tbody tr th:only-of-type {\n",
       "        vertical-align: middle;\n",
       "    }\n",
       "\n",
       "    .dataframe tbody tr th {\n",
       "        vertical-align: top;\n",
       "    }\n",
       "\n",
       "    .dataframe thead th {\n",
       "        text-align: right;\n",
       "    }\n",
       "</style>\n",
       "<table border=\"1\" class=\"dataframe\">\n",
       "  <thead>\n",
       "    <tr style=\"text-align: right;\">\n",
       "      <th></th>\n",
       "      <th>idade</th>\n",
       "      <th>duracao_contato</th>\n",
       "      <th>num_contatos</th>\n",
       "      <th>contatos_anteriores</th>\n",
       "      <th>indice_desemprego</th>\n",
       "      <th>CPI</th>\n",
       "      <th>CCI</th>\n",
       "      <th>Euribor</th>\n",
       "      <th>num_empregados</th>\n",
       "    </tr>\n",
       "  </thead>\n",
       "  <tbody>\n",
       "    <tr>\n",
       "      <th>count</th>\n",
       "      <td>38245.000000</td>\n",
       "      <td>38245.000000</td>\n",
       "      <td>38245.000000</td>\n",
       "      <td>38245.000000</td>\n",
       "      <td>38245.000000</td>\n",
       "      <td>38245.000000</td>\n",
       "      <td>38245.000000</td>\n",
       "      <td>38245.000000</td>\n",
       "      <td>38245.000000</td>\n",
       "    </tr>\n",
       "    <tr>\n",
       "      <th>mean</th>\n",
       "      <td>39.860871</td>\n",
       "      <td>258.207583</td>\n",
       "      <td>2.566662</td>\n",
       "      <td>0.170009</td>\n",
       "      <td>0.082861</td>\n",
       "      <td>93.570313</td>\n",
       "      <td>-40.541164</td>\n",
       "      <td>3.623298</td>\n",
       "      <td>5167.432566</td>\n",
       "    </tr>\n",
       "    <tr>\n",
       "      <th>std</th>\n",
       "      <td>10.289488</td>\n",
       "      <td>259.792638</td>\n",
       "      <td>2.767473</td>\n",
       "      <td>0.487169</td>\n",
       "      <td>1.565945</td>\n",
       "      <td>0.576367</td>\n",
       "      <td>4.623200</td>\n",
       "      <td>1.730226</td>\n",
       "      <td>71.760333</td>\n",
       "    </tr>\n",
       "    <tr>\n",
       "      <th>min</th>\n",
       "      <td>17.000000</td>\n",
       "      <td>0.000000</td>\n",
       "      <td>1.000000</td>\n",
       "      <td>0.000000</td>\n",
       "      <td>-3.400000</td>\n",
       "      <td>92.201000</td>\n",
       "      <td>-50.800000</td>\n",
       "      <td>0.634000</td>\n",
       "      <td>4963.600000</td>\n",
       "    </tr>\n",
       "    <tr>\n",
       "      <th>25%</th>\n",
       "      <td>32.000000</td>\n",
       "      <td>102.000000</td>\n",
       "      <td>1.000000</td>\n",
       "      <td>0.000000</td>\n",
       "      <td>-1.800000</td>\n",
       "      <td>93.075000</td>\n",
       "      <td>-42.700000</td>\n",
       "      <td>1.344000</td>\n",
       "      <td>5099.100000</td>\n",
       "    </tr>\n",
       "    <tr>\n",
       "      <th>50%</th>\n",
       "      <td>38.000000</td>\n",
       "      <td>180.000000</td>\n",
       "      <td>2.000000</td>\n",
       "      <td>0.000000</td>\n",
       "      <td>1.100000</td>\n",
       "      <td>93.444000</td>\n",
       "      <td>-41.800000</td>\n",
       "      <td>4.857000</td>\n",
       "      <td>5191.000000</td>\n",
       "    </tr>\n",
       "    <tr>\n",
       "      <th>75%</th>\n",
       "      <td>47.000000</td>\n",
       "      <td>319.000000</td>\n",
       "      <td>3.000000</td>\n",
       "      <td>0.000000</td>\n",
       "      <td>1.400000</td>\n",
       "      <td>93.994000</td>\n",
       "      <td>-36.400000</td>\n",
       "      <td>4.961000</td>\n",
       "      <td>5228.100000</td>\n",
       "    </tr>\n",
       "    <tr>\n",
       "      <th>max</th>\n",
       "      <td>98.000000</td>\n",
       "      <td>4918.000000</td>\n",
       "      <td>43.000000</td>\n",
       "      <td>7.000000</td>\n",
       "      <td>1.400000</td>\n",
       "      <td>94.767000</td>\n",
       "      <td>-26.900000</td>\n",
       "      <td>5.045000</td>\n",
       "      <td>5228.100000</td>\n",
       "    </tr>\n",
       "  </tbody>\n",
       "</table>\n",
       "</div>"
      ],
      "text/plain": [
       "              idade  duracao_contato  num_contatos  contatos_anteriores   \n",
       "count  38245.000000     38245.000000  38245.000000         38245.000000  \\\n",
       "mean      39.860871       258.207583      2.566662             0.170009   \n",
       "std       10.289488       259.792638      2.767473             0.487169   \n",
       "min       17.000000         0.000000      1.000000             0.000000   \n",
       "25%       32.000000       102.000000      1.000000             0.000000   \n",
       "50%       38.000000       180.000000      2.000000             0.000000   \n",
       "75%       47.000000       319.000000      3.000000             0.000000   \n",
       "max       98.000000      4918.000000     43.000000             7.000000   \n",
       "\n",
       "       indice_desemprego           CPI           CCI       Euribor   \n",
       "count       38245.000000  38245.000000  38245.000000  38245.000000  \\\n",
       "mean            0.082861     93.570313    -40.541164      3.623298   \n",
       "std             1.565945      0.576367      4.623200      1.730226   \n",
       "min            -3.400000     92.201000    -50.800000      0.634000   \n",
       "25%            -1.800000     93.075000    -42.700000      1.344000   \n",
       "50%             1.100000     93.444000    -41.800000      4.857000   \n",
       "75%             1.400000     93.994000    -36.400000      4.961000   \n",
       "max             1.400000     94.767000    -26.900000      5.045000   \n",
       "\n",
       "       num_empregados  \n",
       "count    38245.000000  \n",
       "mean      5167.432566  \n",
       "std         71.760333  \n",
       "min       4963.600000  \n",
       "25%       5099.100000  \n",
       "50%       5191.000000  \n",
       "75%       5228.100000  \n",
       "max       5228.100000  "
      ]
     },
     "execution_count": 9,
     "metadata": {},
     "output_type": "execute_result"
    }
   ],
   "source": [
    "df.describe() # Numéricas"
   ]
  },
  {
   "attachments": {},
   "cell_type": "markdown",
   "metadata": {},
   "source": [
    "# Testes de Hipótese"
   ]
  },
  {
   "attachments": {},
   "cell_type": "markdown",
   "metadata": {},
   "source": [
    "## 1) Diferença de médias (bootstrap) entre o estado civil, idade, classe social e educação"
   ]
  },
  {
   "cell_type": "code",
   "execution_count": 10,
   "metadata": {},
   "outputs": [
    {
     "data": {
      "text/html": [
       "<div>\n",
       "<style scoped>\n",
       "    .dataframe tbody tr th:only-of-type {\n",
       "        vertical-align: middle;\n",
       "    }\n",
       "\n",
       "    .dataframe tbody tr th {\n",
       "        vertical-align: top;\n",
       "    }\n",
       "\n",
       "    .dataframe thead th {\n",
       "        text-align: right;\n",
       "    }\n",
       "</style>\n",
       "<table border=\"1\" class=\"dataframe\">\n",
       "  <thead>\n",
       "    <tr style=\"text-align: right;\">\n",
       "      <th></th>\n",
       "      <th>inadimplencia</th>\n",
       "      <th>resultado</th>\n",
       "    </tr>\n",
       "  </thead>\n",
       "  <tbody>\n",
       "    <tr>\n",
       "      <th>0</th>\n",
       "      <td>0.0</td>\n",
       "      <td>0</td>\n",
       "    </tr>\n",
       "    <tr>\n",
       "      <th>1</th>\n",
       "      <td>NaN</td>\n",
       "      <td>0</td>\n",
       "    </tr>\n",
       "    <tr>\n",
       "      <th>2</th>\n",
       "      <td>0.0</td>\n",
       "      <td>0</td>\n",
       "    </tr>\n",
       "    <tr>\n",
       "      <th>3</th>\n",
       "      <td>0.0</td>\n",
       "      <td>0</td>\n",
       "    </tr>\n",
       "    <tr>\n",
       "      <th>4</th>\n",
       "      <td>0.0</td>\n",
       "      <td>0</td>\n",
       "    </tr>\n",
       "  </tbody>\n",
       "</table>\n",
       "</div>"
      ],
      "text/plain": [
       "   inadimplencia  resultado\n",
       "0            0.0          0\n",
       "1            NaN          0\n",
       "2            0.0          0\n",
       "3            0.0          0\n",
       "4            0.0          0"
      ]
     },
     "execution_count": 10,
     "metadata": {},
     "output_type": "execute_result"
    }
   ],
   "source": [
    "tmp.head()"
   ]
  },
  {
   "cell_type": "code",
   "execution_count": 11,
   "metadata": {},
   "outputs": [
    {
     "data": {
      "text/plain": [
       "Text(0.5, 1.0, 'Aceitaram')"
      ]
     },
     "execution_count": 11,
     "metadata": {},
     "output_type": "execute_result"
    },
    {
     "data": {
      "image/png": "[encoded data removed]",
      "text/plain": [
       "<Figure size 640x480 with 1 Axes>"
      ]
     },
     "metadata": {},
     "output_type": "display_data"
    },
    {
     "data": {
      "image/png": "[encoded data removed]",
      "text/plain": [
       "<Figure size 640x480 with 2 Axes>"
      ]
     },
     "metadata": {},
     "output_type": "display_data"
    }
   ],
   "source": [

    "sns.histplot(df, x=\"estado_civil\", hue=\"resultado\")\n",

    "tmp1 = df[df[\"resultado\"] == 'no'][\"estado_civil\"]\n",
    "tmp2 = df[df[\"resultado\"] == 'yes'][\"estado_civil\"]\n",
    "tmp1 = tmp1.value_counts()\n",
    "tmp2 = tmp2.value_counts()\n",
    "ind = tmp1.index.tolist()\n",
    "tmp1 = tmp1/tmp1.sum() \n",
    "tmp2 = tmp2/tmp2.sum() \n",
    "fig, (ax1, ax2) = plt.subplots(1, 2)\n",
    "ax1.bar(ind,tmp1)\n",
    "ax1.set_title('Recusaram')\n",
    "ax2.bar(ind, tmp2, color='r')\n",
    "ax2.set_title('Aceitaram')\n"
   ]
  },
  {
   "cell_type": "code",
   "execution_count": 12,
   "metadata": {},
   "outputs": [],
   "source": [
    "def bootstrap_diff_mean(vet_1, vet_2, n=1000):\n",
    "    size1, size2 = len(vet_1), len(vet_2)\n",
    "    values_diff = np.zeros(n)\n",
    "    for i in range(n):\n",
    "        np.random.seed(i)\n",
    "        sample1 = np.random.choice(vet_1, size=size1, replace=True)\n",
    "        sample2 = np.random.choice(vet_2, size=size2, replace=True)\n",
    "        values_diff[i] = sample1.mean() - sample2.mean()\n",
    "    \n",
    "    pct_inf = np.percentile(values_diff, 2.5)\n",
    "    pct_sup = np.percentile(values_diff, 97.5)\n",
    "\n",
    "    return pct_inf.round(4), pct_sup.round(4)"
   ]
  },
  {
   "cell_type": "code",
   "execution_count": 13,
   "metadata": {},
   "outputs": [
    {
     "data": {
      "text/plain": [
       "'tmp1 = df[df[\"resultado\"] == \\'no\\']\\ntmp1 = tmp1[\"estado_civil\"].replace(\"divorced\", \"single\")\\ntmp1 = np.where(tmp1 == \"married\", 1, 0)\\ntmp2 = df[df[\"resultado\"] == \\'yes\\']\\ntmp2 = tmp2[\"estado_civil\"].replace(\"divorced\", \"single\")\\ntmp2 = np.where(tmp2 == \"married\", 1, 0)\\n\\nprint(\"Ambas as variáveis são vetores binários, tendo valor 1 se o indivíduo representado e casado e 0 caso contrário\")\\nprint(\"tmp1: Pessoas da amostra que não aceitaram a oferta\")\\nprint(\"tmp2: Pessoas da amostra que aceitaram a oferta\")\\nprint(\"Intervalo de confiança da diferença da taxa de aceitação\")\\nbootstrap_diff_mean(tmp1, tmp2)\\n\\n\\nA lógica desse programa está fixando a resposta, ou seja, dado que alguém aceitou a proposta, \\ncalculamos se a chance dessa pessoa estar casada é diferente da chance da pessoa não estar casada\\nO que eu pretendia era o oposto: Dado que se sabe se alguém é casado, a chance dessa pessoa ter\\naceitado a oferta da campanha é maior/menor?\\n\\nALERTA:Cuidado ao fixar a variável resultado\\n'"
      ]
     },
     "execution_count": 13,
     "metadata": {},
     "output_type": "execute_result"
    }
   ],
   "source": [
    "'''tmp1 = df[df[\"resultado\"] == 'no']\n",
    "tmp1 = tmp1[\"estado_civil\"].replace(\"divorced\", \"single\")\n",
    "tmp1 = np.where(tmp1 == \"married\", 1, 0)\n",
    "tmp2 = df[df[\"resultado\"] == 'yes']\n",
    "tmp2 = tmp2[\"estado_civil\"].replace(\"divorced\", \"single\")\n",
    "tmp2 = np.where(tmp2 == \"married\", 1, 0)\n",
    "\n",
    "print(\"Ambas as variáveis são vetores binários, tendo valor 1 se o indivíduo representado e casado e 0 caso contrário\")\n",
    "print(\"tmp1: Pessoas da amostra que não aceitaram a oferta\")\n",
    "print(\"tmp2: Pessoas da amostra que aceitaram a oferta\")\n",
    "print(\"Intervalo de confiança da diferença da taxa de aceitação\")\n",
    "bootstrap_diff_mean(tmp1, tmp2)\n",
    "\n",
    "\n",
    "A lógica desse programa está fixando a resposta, ou seja, dado que alguém aceitou a proposta, \n",
    "calculamos se a chance dessa pessoa estar casada é diferente da chance da pessoa não estar casada\n",
    "O que eu pretendia era o oposto: Dado que se sabe se alguém é casado, a chance dessa pessoa ter\n",
    "aceitado a oferta da campanha é maior/menor?\n",
    "\n",
    "ALERTA:Cuidado ao fixar a variável resultado\n",
    "'''"
   ]
  },
  {
   "cell_type": "code",
   "execution_count": 14,
   "metadata": {},
   "outputs": [
    {
     "name": "stdout",
     "output_type": "stream",
     "text": [
      "Ambas as variáveis são vetores binários, tendo valor 1 se o aceitou a oferta e 0 caso contrário\n",
      "tmp1: Pessoas casadas\n",
      "tmp2: Pessoas não casadas\n",
      "Intervalo de confiança da diferença da taxa de aceitação de casados e não casados\n"
     ]
    },
    {
     "data": {
      "text/plain": [
       "(-0.0326, -0.02)"
      ]
     },
     "execution_count": 14,
     "metadata": {},
     "output_type": "execute_result"
    }
   ],
   "source": [
    "tmp1 = df[df[\"estado_civil\"] == 'married']\n",
    "tmp1 = tmp1[\"resultado\"]\n",
    "tmp1 = np.where(tmp1 == \"yes\", 1, 0)\n",
    "tmp2 = df[df[\"estado_civil\"] != 'married']\n",
    "tmp2 = tmp2[\"resultado\"]\n",
    "tmp2 = np.where(tmp2 == \"yes\", 1, 0)\n",
    "\n",
    "print(\"Ambas as variáveis são vetores binários, tendo valor 1 se o aceitou a oferta e 0 caso contrário\")\n",
    "print(\"tmp1: Pessoas casadas\")\n",
    "print(\"tmp2: Pessoas não casadas\")\n",
    "print(\"Intervalo de confiança da diferença da taxa de aceitação de casados e não casados\")\n",
    "bootstrap_diff_mean(tmp1, tmp2)"
   ]
  },
  {
   "attachments": {},
   "cell_type": "markdown",
   "metadata": {},
   "source": [
    "Com base no intervalo de confiança acima, temos evidências para rejeitar a hipótese nula de que a chance de uma pessoa aleatória aceitar a proposta é a mesma se ela for casada ou não.<br>\n",
    "Tendo em vista o intervalo negativo, a chance de alguém casado aceitar a proposta é menor do que a de uma pessoa não casada.<br>\n",
    "Tal fato está em concordância com a observação de que o casamento é uma barreira adicional a campanha de marketing, pois mesmo que a campanha convença uma pessoa casada, isso pode não ser o bastante para vender o produto visto que os bens também dizem respeito ao cônjuge da pessoa. "
   ]
  },
  {
   "cell_type": "code",
   "execution_count": 14,
   "metadata": {},
   "outputs": [
    {
     "name": "stdout",
     "output_type": "stream",
     "text": [
      "Ambas as variáveis são vetores binários, tendo valor 1 se o aceitou a oferta e 0 caso contrário\n",
      "tmp1: Pessoas a partir de 40 anos\n",
      "tmp2: Pessoas com menos de 40 anos\n",
      "Intervalo de confiança da diferença da taxa de aceitação entre as faixas etárias\n"
     ]
    },
    {
     "data": {
      "text/plain": [
       "(-0.0151, -0.0023)"
      ]
     },
     "execution_count": 15,
     "metadata": {},
     "output_type": "execute_result"
    }
   ],
   "source": [
    "tmp1 = df[df[\"idade\"] >= 40]\n",
    "tmp1 = tmp1[\"resultado\"]\n",
    "tmp1 = np.where(tmp1 == \"yes\", 1, 0)\n",
    "tmp2 = df[df[\"idade\"] < 40]\n",
    "tmp2 = tmp2[\"resultado\"]\n",
    "tmp2 = np.where(tmp2 == \"yes\", 1, 0)\n",
    "\n",
    "print(\"Ambas as variáveis são vetores binários, tendo valor 1 se o aceitou a oferta e 0 caso contrário\")\n",
    "print(\"tmp1: Pessoas a partir de 40 anos\")\n",
    "print(\"tmp2: Pessoas com menos de 40 anos\")\n",
    "print(\"Intervalo de confiança da diferença da taxa de aceitação entre as faixas etárias\")\n",
    "bootstrap_diff_mean(tmp1, tmp2)"
   ]
  },
  {
   "attachments": {},
   "cell_type": "markdown",
   "metadata": {},
   "source": [
    "A média da idade dos participantes foi escolhida para particionar os dados em 2 grupos.<br>\n",
    "O intervalo de confiança não contém 0, portanto, temos evidência para rejeitar a hipótese nula de que a chance de aceitar o depósito a prazo é a mesma estando acima ou abaixo da média do público alvo."
   ]
  },
  {
   "attachments": {},
   "cell_type": "markdown",
   "metadata": {},
   "source": [
    "## 2) diferença de média (permutação) de acerto da campanha entre sexta e os demais dias"
   ]
  },
  {
   "cell_type": "code",
   "execution_count": 15,
   "metadata": {},
   "outputs": [],
   "source": [
    "def permutation_test(data, test_value, n_cases=1000):\n",
    "    qt = []\n",
    "    for i in range(n_cases):\n",
    "        sample = data['dia_contato'].sample(frac=1,ignore_index=True,random_state = 42)\n",
    "        data.iloc[:,0] = sample\n",
    "        stat = data[(data['resultado'] == 'yes')]\n",
    "        diff = np.mean(np.mean(np.where(stat['dia_contato'] == 0,1,0)) - np.mean(stat['dia_contato']))\n",
    "        qt.append(diff)\n",
    "    IS = np.percentile(qt, 97.5)\n",
    "    II = np.percentile(qt, 2.5)\n",
    "    return qt,II,IS"
   ]
  },
  {
   "cell_type": "code",
   "execution_count": 16,
   "metadata": {},
   "outputs": [],
   "source": [
    "tmp_per = df[['dia_contato','resultado']].copy()\n",
    "#days = ['mon','tue','wed','thu','fri']\n",
    "\n",
    "tmp_per['dia_contato'] = np.where(tmp_per['dia_contato'] == 'fri',1,0)\n",
    "\n",
    "stat = tmp_per[(tmp_per['resultado'] == 'yes')]\n",
    "obs = np.mean(np.mean(np.where(stat['dia_contato'] == 0,1,0)) - np.mean(stat['dia_contato']))\n",
    "\n",
    "q, i, s = permutation_test(tmp_per.copy(), 'fri')"
   ]
  },
  {
   "cell_type": "code",
   "execution_count": 18,
   "metadata": {},
   "outputs": [
    {
     "data": {
      "image/png": "[encoded data removed]",
      "text/plain": [
       "<Figure size 640x480 with 1 Axes>"
      ]
     },
     "metadata": {},
     "output_type": "display_data"
    }
   ],
   "source": [
    "plt.title('Distribuição do Teste de Permutação para Média de Sucessos na Sexta')\n",
    "plt.axvline(i,color='r',linestyle='--',label='df')\n",
    "plt.axvline(s,color='r',linestyle='--')\n",
    "plt.axvline(obs,color='g',linestyle='dashdot')\n",
    "plt.hist(q,bins=20,rwidth=0.95,color='#A3333D')\n",
    "plt.fill_between([i, s], 0, 150, color='grey', alpha=0.8)\n",
    "plt.show()"
   ]
  },
  {
   "attachments": {},
   "cell_type": "markdown",
   "metadata": {},
   "source": [
    "## 3) Diferença de médias da variável y para pessoas que contraíram algum tipo de empréstimo "
   ]
  },
  {
   "cell_type": "code",
   "execution_count": 16,
   "metadata": {},
   "outputs": [
    {
     "data": {
      "text/html": [
       "<div>\n",
       "<style scoped>\n",
       "    .dataframe tbody tr th:only-of-type {\n",
       "        vertical-align: middle;\n",
       "    }\n",
       "\n",
       "    .dataframe tbody tr th {\n",
       "        vertical-align: top;\n",
       "    }\n",
       "\n",
       "    .dataframe thead th {\n",
       "        text-align: right;\n",
       "    }\n",
       "</style>\n",
       "<table border=\"1\" class=\"dataframe\">\n",
       "  <thead>\n",
       "    <tr style=\"text-align: right;\">\n",
       "      <th></th>\n",
       "      <th>resultado</th>\n",
       "      <th>algum_emprestimo</th>\n",
       "    </tr>\n",
       "  </thead>\n",
       "  <tbody>\n",
       "    <tr>\n",
       "      <th>0</th>\n",
       "      <td>no</td>\n",
       "      <td>no</td>\n",
       "    </tr>\n",
       "    <tr>\n",
       "      <th>1</th>\n",
       "      <td>no</td>\n",
       "      <td>no</td>\n",
       "    </tr>\n",
       "    <tr>\n",
       "      <th>2</th>\n",
       "      <td>no</td>\n",
       "      <td>yes</td>\n",
       "    </tr>\n",
       "  </tbody>\n",
       "</table>\n",
       "</div>"
      ],
      "text/plain": [
       "  resultado algum_emprestimo\n",
       "0        no               no\n",
       "1        no               no\n",
       "2        no              yes"
      ]
     },
     "execution_count": 16,
     "metadata": {},
     "output_type": "execute_result"
    }
   ],
   "source": [
    "tmp = df[[\"emprestimo_imobiliario\", \"emprestimo\", \"resultado\"]]\n",
    "\n",
    "loan = []\n",
    "for i in range(len(tmp)):\n",
    "    if tmp[\"emprestimo_imobiliario\"].iloc[i] == 'yes' or tmp[\"emprestimo\"].iloc[i] == 'yes':\n",
    "        loan.append('yes')\n",
    "    else:\n",
    "        loan.append('no')\n",
    "\n",
    "tmp[\"algum_emprestimo\"] = pd.Series(loan)\n",
    "tmp.drop([\"emprestimo\", \"emprestimo_imobiliario\"], axis=1, inplace=True)\n",
    "tmp.dropna(inplace=True)\n",
    "tmp.head(3)"
   ]
  },
  {
   "attachments": {},
   "cell_type": "markdown",
   "metadata": {},
   "source": [
    "#### Teste Hipótese 3"
   ]
  },
  {
   "cell_type": "code",
   "execution_count": 17,
   "metadata": {},
   "outputs": [],
   "source": [
    "def bootstrap_diff_mean(vet_1, vet_2, n=1000):\n",
    "    size1, size2 = len(vet_1), len(vet_2)\n",
    "    values_diff = np.zeros(n)\n",
    "    for i in range(n):\n",
    "        np.random.seed(i)\n",
    "        sample1 = np.random.choice(vet_1, size=size1, replace=True)\n",
    "        sample2 = np.random.choice(vet_2, size=size2, replace=True)\n",
    "        values_diff[i] = sample1.mean() - sample2.mean()\n",
    "    \n",
    "    pct_inf = np.percentile(values_diff, 2.5)\n",
    "    pct_sup = np.percentile(values_diff, 97.5)\n",
    "\n",
    "    return pct_inf.round(4), pct_sup.round(4), values_diff"
   ]
  },
  {
   "cell_type": "code",
   "execution_count": 18,
   "metadata": {},
   "outputs": [
    {
     "name": "stdout",
     "output_type": "stream",
     "text": [
      "IC: (-0.0331, 0.0021)\n"
     ]
    }
   ],
   "source": [
    "tmp1 = tmp[tmp[\"resultado\"] == 'no'][\"algum_emprestimo\"]\n",
    "tmp1 = np.where(tmp1 == \"yes\", 1, 0)\n",
    "\n",
    "tmp2 = tmp[tmp[\"resultado\"] == 'yes'][\"algum_emprestimo\"]\n",
    "tmp2 = np.where(tmp2 == \"yes\", 1, 0)\n",
    "\n",
    "print(\"IC:\", bootstrap_diff_mean(tmp1, tmp2)[:2]) # Inclui 0 então é possível explicar pela aleatoriedade"
   ]
  },
  {
   "attachments": {},
   "cell_type": "markdown",
   "metadata": {},
   "source": [
    "O intervalo de confiança para a diferença de média entre os grupos inclui a possibilidade de a estatística ser igual a zero, o que significa que não é possível apontar diferença entre a distribuição da média da variável y (variável Bernoulli indicativa de sucesso no aceite da campanha) para grupos que contraíram pelo menos um tipo de empréstimo no momento em que foram contatados. "
   ]
  },
  {
   "attachments": {},
   "cell_type": "markdown",
   "metadata": {},
   "source": [
    "#### EDA"
   ]
  },
  {
   "cell_type": "code",
   "execution_count": 19,
   "metadata": {},
   "outputs": [
    {
     "data": {
      "text/plain": [
       "resultado  algum_emprestimo\n",
       "no         yes                 19663\n",
       "           no                  13001\n",
       "yes        yes                  1811\n",
       "           no                   1126\n",
       "Name: count, dtype: int64"
      ]
     },
     "execution_count": 19,
     "metadata": {},
     "output_type": "execute_result"
    }
   ],
   "source": [
    "tmp.value_counts()"
   ]
  },
  {
   "cell_type": "code",
   "execution_count": 20,
   "metadata": {},
   "outputs": [
    {
     "data": {
      "image/png": "[encoded data removed]",
      "text/plain": [
       "<Figure size 640x480 with 1 Axes>"
      ]
     },
     "metadata": {},
     "output_type": "display_data"
    }
   ],
   "source": [
    "bootstrap = bootstrap_diff_mean(tmp1, tmp2)\n",
    "\n",
    "plt.hist(bootstrap[2], color='#A3333D', alpha=0.9, density=False, bins=15, rwidth=0.9)\n",
    "plt.title('Diferença entre médias para o Empréstimo', fontsize=14)\n",
    "plt.fill_between([bootstrap[0], bootstrap[1]], 200, 4, color='grey', alpha=0.8)\n",
    "fig.tight_layout()\n",
    "plt.show()"
   ]
  },
  {
   "attachments": {},
   "cell_type": "markdown",
   "metadata": {},
   "source": [
    "### 4) Avaliar se a amostra é desbalanceada em relação à variável y"
   ]
  },
  {
   "cell_type": "code",
   "execution_count": 21,
   "metadata": {},
   "outputs": [
    {
     "data": {
      "text/html": [
       "<div>\n",
       "<style scoped>\n",
       "    .dataframe tbody tr th:only-of-type {\n",
       "        vertical-align: middle;\n",
       "    }\n",
       "\n",
       "    .dataframe tbody tr th {\n",
       "        vertical-align: top;\n",
       "    }\n",
       "\n",
       "    .dataframe thead th {\n",
       "        text-align: right;\n",
       "    }\n",
       "</style>\n",
       "<table border=\"1\" class=\"dataframe\">\n",
       "  <thead>\n",
       "    <tr style=\"text-align: right;\">\n",
       "      <th></th>\n",
       "      <th>resultado</th>\n",
       "      <th>algum_emprestimo</th>\n",
       "    </tr>\n",
       "  </thead>\n",
       "  <tbody>\n",
       "    <tr>\n",
       "      <th>0</th>\n",
       "      <td>no</td>\n",
       "      <td>no</td>\n",
       "    </tr>\n",
       "    <tr>\n",
       "      <th>1</th>\n",
       "      <td>no</td>\n",
       "      <td>no</td>\n",
       "    </tr>\n",
       "    <tr>\n",
       "      <th>2</th>\n",
       "      <td>no</td>\n",
       "      <td>yes</td>\n",
       "    </tr>\n",
       "  </tbody>\n",
       "</table>\n",
       "</div>"
      ],
      "text/plain": [
       "  resultado algum_emprestimo\n",
       "0        no               no\n",
       "1        no               no\n",
       "2        no              yes"
      ]
     },
     "execution_count": 21,
     "metadata": {},
     "output_type": "execute_result"
    }
   ],
   "source": [
    "tmp = df[[\"emprestimo_imobiliario\", \"emprestimo\", \"resultado\"]]\n",
    "\n",
    "loan = []\n",
    "for i in range(len(tmp)):\n",
    "    if tmp[\"emprestimo_imobiliario\"].iloc[i] == 'yes' or tmp[\"emprestimo\"].iloc[i] == 'yes':\n",
    "        loan.append('yes')\n",
    "    else:\n",
    "        loan.append('no')\n",
    "\n",
    "tmp[\"algum_emprestimo\"] = pd.Series(loan)\n",
    "tmp.drop([\"emprestimo\", \"emprestimo_imobiliario\"], axis=1, inplace=True)\n",
    "tmp.dropna(inplace=True)\n",
    "tmp.head(3)"
   ]
  },
  {
   "attachments": {},
   "cell_type": "markdown",
   "metadata": {},
   "source": [
    "#### Teste Hipótese 4"
   ]
  },
  {
   "cell_type": "code",
   "execution_count": 22,
   "metadata": {},
   "outputs": [],
   "source": [
    "def classic_ic(vetor):\n",
    "  # altere a função para retornar uma tupla (LI, LS) com os limites do intervalo de confiança\n",
    "  x_bar = np.mean(vetor) # p\n",
    "  std_bar = np.std(vetor) # p(1-p)\n",
    "  n = len(vetor)\n",
    "  \n",
    "  pct_inf = x_bar - (1.96*std_bar/(n**0.5))\n",
    "  pct_sup = x_bar + (1.96*std_bar/(n**0.5))\n",
    "\n",
    "  return pct_inf.round(4), pct_sup.round(4)"
   ]
  },
  {
   "cell_type": "code",
   "execution_count": 23,
   "metadata": {},
   "outputs": [
    {
     "name": "stdout",
     "output_type": "stream",
     "text": [
      "IC: (0.0796, 0.0854)\n",
      "Proporção Amostral: 0.0825\n"
     ]
    }
   ],
   "source": [
    "tmp3 = np.where(tmp[\"resultado\"] == 'yes', 1, 0)\n",
    "\n",
    "print(\"IC:\", classic_ic(tmp3)) \n",
    "print(\"Proporção Amostral:\", tmp3.mean().round(4))"
   ]
  },
  {
   "attachments": {},
   "cell_type": "markdown",
   "metadata": {},
   "source": [
    "O valor de 50% não está incluído no intervalo de confiança para a distribuição real da média populacional $\\mu$. Isso significa que o fato de a média da variável y ser de 8,25% é muito raro e não pode ser explicado pela aleatoriedade (caso em que a média é 50%). Outro fator a se analisar pode ser de que a seleção da amostra pode ter sido feita de forma enviesada, e por isso ela foi coletada de forma desbalanceada de uma forma que não pode ser explicada pela aleatoriedade."
   ]
  },
  {
   "attachments": {},
   "cell_type": "markdown",
   "metadata": {},
   "source": [
    "#### EDA"
   ]
  },
  {
   "cell_type": "code",
   "execution_count": 24,
   "metadata": {},
   "outputs": [
    {
     "name": "stdout",
     "output_type": "stream",
     "text": [
      "Estatísticas Descritivas\n"
     ]
    },
    {
     "data": {
      "text/plain": [
       "count    35601.000\n",
       "mean         0.082\n",
       "std          0.275\n",
       "dtype: float64"
      ]
     },
     "execution_count": 24,
     "metadata": {},
     "output_type": "execute_result"
    }
   ],
   "source": [
    "print(\"Estatísticas Descritivas\")\n",
    "pd.Series(tmp3).describe()[:3].round(3)"
   ]
  },
  {
   "cell_type": "code",
   "execution_count": 25,
   "metadata": {},
   "outputs": [
    {
     "data": {
      "image/png": "[encoded data removed]",
      "text/plain": [
       "<Figure size 640x480 with 1 Axes>"
      ]
     },
     "metadata": {},
     "output_type": "display_data"
    }
   ],
   "source": [
    "import numpy as np\n",
    "rand_norm = np.random.normal(tmp3.mean(), tmp3.std()/(len(tmp3)**0.5), 1000)\n",
    "ic = classic_ic(tmp3)\n",
    "\n",
    "plt.hist(rand_norm, color='#A3333D', alpha=0.9, density=False, bins=15, rwidth=0.9)\n",
    "plt.title('IC Esperado para a Média Populacional', fontsize=14)\n",
    "plt.fill_between([ic[0], ic[1]], 200, 4, color='grey', alpha=0.8)\n",
    "fig.tight_layout()\n",
    "plt.show()"
   ]
  },
  {
   "attachments": {},
   "cell_type": "markdown",
   "metadata": {},
   "source": [
    "# Problema de Pesquisa"
   ]
  }
 ],
 "metadata": {
  "kernelspec": {
   "display_name": "Python 3",
   "language": "python",
   "name": "python3"
  },
  "language_info": {
   "codemirror_mode": {
    "name": "ipython",
    "version": 3
   },
   "file_extension": ".py",
   "mimetype": "text/x-python",
   "name": "python",
   "nbconvert_exporter": "python",
   "pygments_lexer": "ipython3",
   "version": "3.10.4"
  },
  "orig_nbformat": 4
 },
 "nbformat": 4,
 "nbformat_minor": 2
}
