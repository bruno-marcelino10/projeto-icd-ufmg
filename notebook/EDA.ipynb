{
 "cells": [
  {
   "attachments": {},
   "cell_type": "markdown",
   "metadata": {},
   "source": [
    "# Informações Relevantes sobre os dados\n",
    "\n",
    "Esse *dataset* foi disponibilizado publicamente no site da UCI Machine Learning Repository, disponível em: <http://archive.ics.uci.edu/ml/datasets/Bank+Marketing>. \n",
    "\n",
    "Os dados foram coletados do Banco de Portugal, em: <https://www.bportugal.pt/estatisticasweb>\n",
    "\n",
    "\n",
    "# Variáveis Analisadas\n",
    "\n",
    "### Características dos clientes:\n",
    "\n",
    "1 - [idade] age (numeric)\n",
    "\n",
    "2 - [emprego] job : type of job (categorical: \"admin.\",\"blue-collar\",\"entrepreneur\",\"housemaid\",\"management\",\"retired\",\"self-employed\",\"services\",\"student\",\"technician\",\"unemployed\",\"unknown\")\n",
    "\n",
    "3 - [estado_civil] marital : marital status (categorical: \"divorced\",\"married\",\"single\",\"unknown\"; note: \"divorced\" means divorced or widowed)\n",
    "\n",
    "4 - [educação] education (categorical: \"basic.4y\",\"basic.6y\",\"basic.9y\",\"high.school\",\"illiterate\",\"professional.course\",\"university.degree\",\"unknown\")\n",
    "\n",
    "5 - [inadimplência] default: has credit in default? (categorical: \"no\",\"yes\",\"unknown\")\n",
    "\n",
    "6 - [empréstimo_imobiliario] housing: has housing loan? (categorical: \"no\",\"yes\",\"unknown\")\n",
    "\n",
    "7 - [empréstimo]: has personal loan? (categorical: \"no\",\"yes\",\"unknown\")\n",
    "\n",
    "### Último contato feito:\n",
    "\n",
    "8 - [forma_contato] contact: contact communication type (categorical: \"cellular\",\"telephone\") \n",
    "\n",
    "9 - [mês_contato] month: last contact month of year (categorical: \"jan\", \"feb\", \"mar\", ..., \"nov\", \"dec\")\n",
    "\n",
    "10 - [dia_contato] day_of_week: last contact day of the week (categorical: \"mon\",\"tue\",\"wed\",\"thu\",\"fri\")\n",
    "\n",
    "11 - [duração_contato] duration: last contact duration, in seconds (numeric). Important note:  this attribute highly affects the output target (e.g., if duration=0 then y=\"no\"). Yet, the duration is not known before a call is performed. Also, after the end of the call y is obviously known. Thus, this input should only be included for benchmark purposes and should be discarded if the intention is to have a realistic predictive model.\n",
    "\n",
    "### Outros atributos do cliente na campanha:\n",
    "\n",
    "12 - [num_contatos] campaign: number of contacts performed during this campaign and for this client (numeric, includes last contact)\n",
    "\n",
    "13 - [dias_ultimo_contato] pdays: number of days that passed by after the client was last contacted from a previous campaign (numeric; 999 means client was not previously contacted)\n",
    "\n",
    "14 - [contatos_anteriores] previous: number of contacts performed before this campaign and for this client (numeric)\n",
    "\n",
    "15 - [resultado_anterior] poutcome: outcome of the previous marketing campaign (categorical: \"failure\",\"nonexistent\",\"success\")\n",
    "\n",
    "### Contexto socioeconômico dos clientes:\n",
    "\n",
    "16 - [indice_desemprego] emp.var.rate: employment variation rate - quarterly indicator (numeric)\n",
    "\n",
    "17 - [CPI] cons.price.idx: consumer price index - monthly indicator (numeric)     \n",
    "\n",
    "18 - [CCI] cons.conf.idx: consumer confidence index - monthly indicator (numeric)  \n",
    "\n",
    "19 - [Euribor] euribor3m: euribor 3 month rate - daily indicator (numeric)\n",
    "\n",
    "20 - [num_empregados] nr.employed: number of employees - quarterly indicator (numeric)\n",
    "\n",
    "### Variável-Alvo:\n",
    "\n",
    "21 - [resultado] y: has the client subscribed a term deposit? (binary: \"yes\",\"no\")\n",
    "\n",
    "# Valores Faltantes\n",
    "\n",
    "Todos os valores faltantes foram imputados como \"unknown\"."
   ]
  },
  {
   "attachments": {},
   "cell_type": "markdown",
   "metadata": {},
   "source": [
    "# Importação de Dados"
   ]
  },
  {
   "cell_type": "code",
   "execution_count": 44,
   "metadata": {},
   "outputs": [],
   "source": [
    "import numpy as np\n",
    "import pandas as pd\n",
    "import seaborn as sns\n",
    "import matplotlib.pyplot as plt\n",
    "import plotly.express as px\n",
    "import warnings\n",
    "from sklearn.linear_model import LogisticRegression\n",
    "from sklearn.utils import shuffle\n",
    "from sklearn.metrics import accuracy_score\n",
    "warnings.filterwarnings(action='ignore')"
   ]
  },
  {
   "cell_type": "code",
   "execution_count": 2,
   "metadata": {},
   "outputs": [
    {
     "data": {
      "text/html": [
       "<div>\n",
       "<style scoped>\n",
       "    .dataframe tbody tr th:only-of-type {\n",
       "        vertical-align: middle;\n",
       "    }\n",
       "\n",
       "    .dataframe tbody tr th {\n",
       "        vertical-align: top;\n",
       "    }\n",
       "\n",
       "    .dataframe thead th {\n",
       "        text-align: right;\n",
       "    }\n",
       "</style>\n",
       "<table border=\"1\" class=\"dataframe\">\n",
       "  <thead>\n",
       "    <tr style=\"text-align: right;\">\n",
       "      <th></th>\n",
       "      <th>idade</th>\n",
       "      <th>emprego</th>\n",
       "      <th>estado_civil</th>\n",
       "      <th>educacao</th>\n",
       "      <th>inadimplencia</th>\n",
       "      <th>emprestimo_imobiliario</th>\n",
       "      <th>emprestimo</th>\n",
       "      <th>forma_contato</th>\n",
       "      <th>mes_contato</th>\n",
       "      <th>dia_contato</th>\n",
       "      <th>...</th>\n",
       "      <th>num_contatos</th>\n",
       "      <th>dias_ultimo_contato</th>\n",
       "      <th>contatos_anteriores</th>\n",
       "      <th>resultado_anterior</th>\n",
       "      <th>indice_desemprego</th>\n",
       "      <th>CPI</th>\n",
       "      <th>CCI</th>\n",
       "      <th>Euribor</th>\n",
       "      <th>num_empregados</th>\n",
       "      <th>resultado</th>\n",
       "    </tr>\n",
       "  </thead>\n",
       "  <tbody>\n",
       "    <tr>\n",
       "      <th>0</th>\n",
       "      <td>56</td>\n",
       "      <td>housemaid</td>\n",
       "      <td>married</td>\n",
       "      <td>basic.4y</td>\n",
       "      <td>no</td>\n",
       "      <td>no</td>\n",
       "      <td>no</td>\n",
       "      <td>telephone</td>\n",
       "      <td>may</td>\n",
       "      <td>mon</td>\n",
       "      <td>...</td>\n",
       "      <td>1</td>\n",
       "      <td>999</td>\n",
       "      <td>0</td>\n",
       "      <td>nonexistent</td>\n",
       "      <td>1.1</td>\n",
       "      <td>93.994</td>\n",
       "      <td>-36.4</td>\n",
       "      <td>4.857</td>\n",
       "      <td>5191.0</td>\n",
       "      <td>no</td>\n",
       "    </tr>\n",
       "    <tr>\n",
       "      <th>1</th>\n",
       "      <td>57</td>\n",
       "      <td>services</td>\n",
       "      <td>married</td>\n",
       "      <td>high.school</td>\n",
       "      <td>unknown</td>\n",
       "      <td>no</td>\n",
       "      <td>no</td>\n",
       "      <td>telephone</td>\n",
       "      <td>may</td>\n",
       "      <td>mon</td>\n",
       "      <td>...</td>\n",
       "      <td>1</td>\n",
       "      <td>999</td>\n",
       "      <td>0</td>\n",
       "      <td>nonexistent</td>\n",
       "      <td>1.1</td>\n",
       "      <td>93.994</td>\n",
       "      <td>-36.4</td>\n",
       "      <td>4.857</td>\n",
       "      <td>5191.0</td>\n",
       "      <td>no</td>\n",
       "    </tr>\n",
       "    <tr>\n",
       "      <th>2</th>\n",
       "      <td>37</td>\n",
       "      <td>services</td>\n",
       "      <td>married</td>\n",
       "      <td>high.school</td>\n",
       "      <td>no</td>\n",
       "      <td>yes</td>\n",
       "      <td>no</td>\n",
       "      <td>telephone</td>\n",
       "      <td>may</td>\n",
       "      <td>mon</td>\n",
       "      <td>...</td>\n",
       "      <td>1</td>\n",
       "      <td>999</td>\n",
       "      <td>0</td>\n",
       "      <td>nonexistent</td>\n",
       "      <td>1.1</td>\n",
       "      <td>93.994</td>\n",
       "      <td>-36.4</td>\n",
       "      <td>4.857</td>\n",
       "      <td>5191.0</td>\n",
       "      <td>no</td>\n",
       "    </tr>\n",
       "    <tr>\n",
       "      <th>3</th>\n",
       "      <td>40</td>\n",
       "      <td>admin.</td>\n",
       "      <td>married</td>\n",
       "      <td>basic.6y</td>\n",
       "      <td>no</td>\n",
       "      <td>no</td>\n",
       "      <td>no</td>\n",
       "      <td>telephone</td>\n",
       "      <td>may</td>\n",
       "      <td>mon</td>\n",
       "      <td>...</td>\n",
       "      <td>1</td>\n",
       "      <td>999</td>\n",
       "      <td>0</td>\n",
       "      <td>nonexistent</td>\n",
       "      <td>1.1</td>\n",
       "      <td>93.994</td>\n",
       "      <td>-36.4</td>\n",
       "      <td>4.857</td>\n",
       "      <td>5191.0</td>\n",
       "      <td>no</td>\n",
       "    </tr>\n",
       "    <tr>\n",
       "      <th>4</th>\n",
       "      <td>56</td>\n",
       "      <td>services</td>\n",
       "      <td>married</td>\n",
       "      <td>high.school</td>\n",
       "      <td>no</td>\n",
       "      <td>no</td>\n",
       "      <td>yes</td>\n",
       "      <td>telephone</td>\n",
       "      <td>may</td>\n",
       "      <td>mon</td>\n",
       "      <td>...</td>\n",
       "      <td>1</td>\n",
       "      <td>999</td>\n",
       "      <td>0</td>\n",
       "      <td>nonexistent</td>\n",
       "      <td>1.1</td>\n",
       "      <td>93.994</td>\n",
       "      <td>-36.4</td>\n",
       "      <td>4.857</td>\n",
       "      <td>5191.0</td>\n",
       "      <td>no</td>\n",
       "    </tr>\n",
       "  </tbody>\n",
       "</table>\n",
       "<p>5 rows × 21 columns</p>\n",
       "</div>"
      ],
      "text/plain": [
       "   idade    emprego estado_civil     educacao inadimplencia  \\\n",
       "0     56  housemaid      married     basic.4y            no   \n",
       "1     57   services      married  high.school       unknown   \n",
       "2     37   services      married  high.school            no   \n",
       "3     40     admin.      married     basic.6y            no   \n",
       "4     56   services      married  high.school            no   \n",
       "\n",
       "  emprestimo_imobiliario emprestimo forma_contato mes_contato dia_contato  \\\n",
       "0                     no         no     telephone         may         mon   \n",
       "1                     no         no     telephone         may         mon   \n",
       "2                    yes         no     telephone         may         mon   \n",
       "3                     no         no     telephone         may         mon   \n",
       "4                     no        yes     telephone         may         mon   \n",
       "\n",
       "   ...  num_contatos  dias_ultimo_contato  contatos_anteriores  \\\n",
       "0  ...             1                  999                    0   \n",
       "1  ...             1                  999                    0   \n",
       "2  ...             1                  999                    0   \n",
       "3  ...             1                  999                    0   \n",
       "4  ...             1                  999                    0   \n",
       "\n",
       "   resultado_anterior indice_desemprego     CPI   CCI  Euribor  \\\n",
       "0         nonexistent               1.1  93.994 -36.4    4.857   \n",
       "1         nonexistent               1.1  93.994 -36.4    4.857   \n",
       "2         nonexistent               1.1  93.994 -36.4    4.857   \n",
       "3         nonexistent               1.1  93.994 -36.4    4.857   \n",
       "4         nonexistent               1.1  93.994 -36.4    4.857   \n",
       "\n",
       "   num_empregados  resultado  \n",
       "0          5191.0         no  \n",
       "1          5191.0         no  \n",
       "2          5191.0         no  \n",
       "3          5191.0         no  \n",
       "4          5191.0         no  \n",
       "\n",
       "[5 rows x 21 columns]"
      ]
     },
     "execution_count": 2,
     "metadata": {},
     "output_type": "execute_result"
    }
   ],
   "source": [
    "dados = pd.read_csv(\"../dados/bank-additional-full.csv\", sep=\";\")\n",
    "\n",
    "dados = dados.rename(columns={\n",
    "    \"age\":\"idade\",\n",
    "    \"job\":\"emprego\",\n",
    "    \"marital\":\"estado_civil\",\n",
    "    \"education\":\"educacao\",\n",
    "    \"default\":\"inadimplencia\",\n",
    "    \"housing\":\"emprestimo_imobiliario\",\n",
    "    \"loan\":\"emprestimo\",\n",
    "    \"contact\":\"forma_contato\",\n",
    "    \"month\":\"mes_contato\",\n",
    "    \"day_of_week\":\"dia_contato\",\n",
    "    \"duration\":\"duracao_contato\",\n",
    "    \"campaign\":\"num_contatos\",\n",
    "    \"pdays\":\"dias_ultimo_contato\",\n",
    "    \"previous\":\"contatos_anteriores\",\n",
    "    \"poutcome\":\"resultado_anterior\",\n",
    "    \"emp.var.rate\":\"indice_desemprego\",\n",
    "    \"cons.price.idx\":\"CPI\",\n",
    "    \"cons.conf.idx\":\"CCI\",\n",
    "    \"euribor3m\":\"Euribor\",\n",
    "    \"nr.employed\":\"num_empregados\",\n",
    "    \"y\":\"resultado\"\n",
    "})\n",
    "dados.head()"
   ]
  },
  {
   "attachments": {},
   "cell_type": "markdown",
   "metadata": {},
   "source": [
    "# Limpeza de Dados"
   ]
  },
  {
   "attachments": {},
   "cell_type": "markdown",
   "metadata": {},
   "source": [
    "Devemos verificar:\n",
    "* estrutura\n",
    "* granularidade\n",
    "* escopo\n",
    "* temporalidade\n",
    "* corretude\n",
    "\n",
    "Operações:\n",
    "* Limpeza de NAs\n",
    "* padronizações\n",
    "* tipagem"
   ]
  },
  {
   "attachments": {},
   "cell_type": "markdown",
   "metadata": {},
   "source": [
    "## Lidando com os NA's"
   ]
  },
  {
   "attachments": {},
   "cell_type": "markdown",
   "metadata": {},
   "source": [
    "Os dados faltantes das colunas de \"Características dos Clientes\" foram imputados com a palavra \"unknown\". Além disso, os valores faltantes da coluna \"pdays\" foram imputados com \"999\". \n",
    "\n",
    "Para tratá-los, precisamos converter todos os dados faltantes para o formato NaN, de forma a facilitar sua transformação."
   ]
  },
  {
   "cell_type": "code",
   "execution_count": 3,
   "metadata": {},
   "outputs": [],
   "source": [
    "df = dados.copy()\n",
    "df = df.apply(lambda x: x.replace('unknown', np.nan))\n",
    "df[\"dias_ultimo_contato\"] = df[\"dias_ultimo_contato\"].replace(999, np.nan)"
   ]
  },
  {
   "cell_type": "code",
   "execution_count": 4,
   "metadata": {},
   "outputs": [
    {
     "name": "stdout",
     "output_type": "stream",
     "text": [
      "<class 'pandas.core.frame.DataFrame'>\n",
      "RangeIndex: 41188 entries, 0 to 41187\n",
      "Data columns (total 21 columns):\n",
      " #   Column                  Non-Null Count  Dtype  \n",
      "---  ------                  --------------  -----  \n",
      " 0   idade                   41188 non-null  int64  \n",
      " 1   emprego                 40858 non-null  object \n",
      " 2   estado_civil            41108 non-null  object \n",
      " 3   educacao                39457 non-null  object \n",
      " 4   inadimplencia           32591 non-null  object \n",
      " 5   emprestimo_imobiliario  40198 non-null  object \n",
      " 6   emprestimo              40198 non-null  object \n",
      " 7   forma_contato           41188 non-null  object \n",
      " 8   mes_contato             41188 non-null  object \n",
      " 9   dia_contato             41188 non-null  object \n",
      " 10  duracao_contato         41188 non-null  int64  \n",
      " 11  num_contatos            41188 non-null  int64  \n",
      " 12  dias_ultimo_contato     1515 non-null   float64\n",
      " 13  contatos_anteriores     41188 non-null  int64  \n",
      " 14  resultado_anterior      41188 non-null  object \n",
      " 15  indice_desemprego       41188 non-null  float64\n",
      " 16  CPI                     41188 non-null  float64\n",
      " 17  CCI                     41188 non-null  float64\n",
      " 18  Euribor                 41188 non-null  float64\n",
      " 19  num_empregados          41188 non-null  float64\n",
      " 20  resultado               41188 non-null  object \n",
      "dtypes: float64(6), int64(4), object(11)\n",
      "memory usage: 6.6+ MB\n"
     ]
    }
   ],
   "source": [
    "df.info() #"
   ]
  },
  {
   "attachments": {},
   "cell_type": "markdown",
   "metadata": {},
   "source": [
    "Podemos observar que há valores faltantes nas colunas \"inadimplência\", \"educação\", \"emprego\", \"empréstomo_imobiliário\", \"empréstimo\" e \"dias_último_contato\". Vamos verificar o quanto isso representa do total de amostras, individualmente."
   ]
  },
  {
   "cell_type": "code",
   "execution_count": 5,
   "metadata": {},
   "outputs": [
    {
     "data": {
      "text/plain": [
       "dias_ultimo_contato       0.963217\n",
       "inadimplencia             0.208726\n",
       "educacao                  0.042027\n",
       "emprestimo_imobiliario    0.024036\n",
       "emprestimo                0.024036\n",
       "emprego                   0.008012\n",
       "dtype: float64"
      ]
     },
     "execution_count": 5,
     "metadata": {},
     "output_type": "execute_result"
    }
   ],
   "source": [
    "tmp = df[[\"inadimplencia\", \"educacao\", \"emprego\", \"emprestimo_imobiliario\", \"emprestimo\", \"dias_ultimo_contato\"]]\n",
    "tmp.isna().sum().sort_values(ascending=False)/len(df)"
   ]
  },
  {
   "attachments": {},
   "cell_type": "markdown",
   "metadata": {},
   "source": [
    "As colunas que contém +5% de NA's em relação à quantidade total de observações são: \"default\" e \"pdays\". Vamos verificar a correlação entre elas e o alvo. Caso não seja significante (+5%), optaremos por apagá-las assumindo que não haverá perda de informação.\n",
    "\n",
    "Já as outras colunas contém uma baixa quantidade de dados faltantes, por isso consideramos razoável remover todas as linhas que contenham pelo menos um dado faltante."
   ]
  },
  {
   "cell_type": "code",
   "execution_count": 6,
   "metadata": {},
   "outputs": [
    {
     "name": "stdout",
     "output_type": "stream",
     "text": [
      "correlação dias_ultimo_contato-resultado: -0.04\n",
      "correlação inadimplencia-resultado: -0.0\n"
     ]
    }
   ],
   "source": [
    "tmp = df[[\"dias_ultimo_contato\",\"resultado\"]]\n",
    "tmp = tmp.apply(lambda x: x.replace('no', 0))\n",
    "tmp = tmp.apply(lambda x: x.replace('yes', 1))\n",
    "\n",
    "print(\"correlação dias_ultimo_contato-resultado:\", tmp.corr()[\"resultado\"][0].round(2))\n",
    "\n",
    "tmp = df[[\"inadimplencia\",\"resultado\"]]\n",
    "tmp = tmp.apply(lambda x: x.replace('no', 0))\n",
    "tmp = tmp.apply(lambda x: x.replace('yes', 1))\n",
    "\n",
    "print(\"correlação inadimplencia-resultado:\", tmp.corr()[\"resultado\"][0].round(2))\n",
    "\n",
    "df.drop([\"inadimplencia\", \"dias_ultimo_contato\"], axis=1, inplace=True) # apaga as colunas\n",
    "df.dropna(inplace=True) # apaga os NA's das linhas restantes"
   ]
  },
  {
   "attachments": {},
   "cell_type": "markdown",
   "metadata": {},
   "source": [
    "Vamos agora verificar a maneira como os dados estão descritos.\n",
    "\n",
    "O primeiro ponto a se considerar é de que o pandas realiza a tipagem das colunas de forma automática. Neste caso, dado que o csv considera certos dados faltantes como \"unknown\", todos os dados das colunas que contém NA's seriam convertidos para o tipo \"object\", ou seja, não numérico. Como as únicas colunas que continham NA's são categóricas não ordinais, nenhuma tipagem foi feita de maneira errada. \n",
    "\n",
    "A partir da função `df.info` (contida na célula acima) podemos verificar que as variáveis que contém números são: 'duration', 'campaign', 'pdays', 'previous', 'poutcome', 'emp.var.rate', 'cons.price.idx', 'cons.conf.idx', 'euribor3m', 'nr.employed'. Ao visualizá-las, podemos confirmar o que foi constatado. "
   ]
  },
  {
   "cell_type": "code",
   "execution_count": 7,
   "metadata": {},
   "outputs": [
    {
     "name": "stdout",
     "output_type": "stream",
     "text": [
      "Rótulos das colunas numéricas:  ['idade', 'emprego', 'estado_civil', 'educacao', 'emprestimo_imobiliario', 'emprestimo', 'forma_contato', 'mes_contato', 'dia_contato', 'duracao_contato', 'num_contatos', 'contatos_anteriores', 'resultado_anterior', 'indice_desemprego', 'CPI', 'CCI', 'Euribor', 'num_empregados', 'resultado']\n"
     ]
    },
    {
     "data": {
      "text/html": [
       "<div>\n",
       "<style scoped>\n",
       "    .dataframe tbody tr th:only-of-type {\n",
       "        vertical-align: middle;\n",
       "    }\n",
       "\n",
       "    .dataframe tbody tr th {\n",
       "        vertical-align: top;\n",
       "    }\n",
       "\n",
       "    .dataframe thead th {\n",
       "        text-align: right;\n",
       "    }\n",
       "</style>\n",
       "<table border=\"1\" class=\"dataframe\">\n",
       "  <thead>\n",
       "    <tr style=\"text-align: right;\">\n",
       "      <th></th>\n",
       "      <th>duracao_contato</th>\n",
       "      <th>num_contatos</th>\n",
       "      <th>contatos_anteriores</th>\n",
       "      <th>resultado_anterior</th>\n",
       "      <th>indice_desemprego</th>\n",
       "      <th>CPI</th>\n",
       "      <th>CCI</th>\n",
       "      <th>Euribor</th>\n",
       "      <th>num_empregados</th>\n",
       "      <th>resultado</th>\n",
       "    </tr>\n",
       "  </thead>\n",
       "  <tbody>\n",
       "    <tr>\n",
       "      <th>0</th>\n",
       "      <td>261</td>\n",
       "      <td>1</td>\n",
       "      <td>0</td>\n",
       "      <td>nonexistent</td>\n",
       "      <td>1.1</td>\n",
       "      <td>93.994</td>\n",
       "      <td>-36.4</td>\n",
       "      <td>4.857</td>\n",
       "      <td>5191.0</td>\n",
       "      <td>no</td>\n",
       "    </tr>\n",
       "    <tr>\n",
       "      <th>1</th>\n",
       "      <td>149</td>\n",
       "      <td>1</td>\n",
       "      <td>0</td>\n",
       "      <td>nonexistent</td>\n",
       "      <td>1.1</td>\n",
       "      <td>93.994</td>\n",
       "      <td>-36.4</td>\n",
       "      <td>4.857</td>\n",
       "      <td>5191.0</td>\n",
       "      <td>no</td>\n",
       "    </tr>\n",
       "    <tr>\n",
       "      <th>2</th>\n",
       "      <td>226</td>\n",
       "      <td>1</td>\n",
       "      <td>0</td>\n",
       "      <td>nonexistent</td>\n",
       "      <td>1.1</td>\n",
       "      <td>93.994</td>\n",
       "      <td>-36.4</td>\n",
       "      <td>4.857</td>\n",
       "      <td>5191.0</td>\n",
       "      <td>no</td>\n",
       "    </tr>\n",
       "    <tr>\n",
       "      <th>3</th>\n",
       "      <td>151</td>\n",
       "      <td>1</td>\n",
       "      <td>0</td>\n",
       "      <td>nonexistent</td>\n",
       "      <td>1.1</td>\n",
       "      <td>93.994</td>\n",
       "      <td>-36.4</td>\n",
       "      <td>4.857</td>\n",
       "      <td>5191.0</td>\n",
       "      <td>no</td>\n",
       "    </tr>\n",
       "    <tr>\n",
       "      <th>4</th>\n",
       "      <td>307</td>\n",
       "      <td>1</td>\n",
       "      <td>0</td>\n",
       "      <td>nonexistent</td>\n",
       "      <td>1.1</td>\n",
       "      <td>93.994</td>\n",
       "      <td>-36.4</td>\n",
       "      <td>4.857</td>\n",
       "      <td>5191.0</td>\n",
       "      <td>no</td>\n",
       "    </tr>\n",
       "  </tbody>\n",
       "</table>\n",
       "</div>"
      ],
      "text/plain": [
       "   duracao_contato  num_contatos  contatos_anteriores resultado_anterior  \\\n",
       "0              261             1                    0        nonexistent   \n",
       "1              149             1                    0        nonexistent   \n",
       "2              226             1                    0        nonexistent   \n",
       "3              151             1                    0        nonexistent   \n",
       "4              307             1                    0        nonexistent   \n",
       "\n",
       "   indice_desemprego     CPI   CCI  Euribor  num_empregados resultado  \n",
       "0                1.1  93.994 -36.4    4.857          5191.0        no  \n",
       "1                1.1  93.994 -36.4    4.857          5191.0        no  \n",
       "2                1.1  93.994 -36.4    4.857          5191.0        no  \n",
       "3                1.1  93.994 -36.4    4.857          5191.0        no  \n",
       "4                1.1  93.994 -36.4    4.857          5191.0        no  "
      ]
     },
     "execution_count": 7,
     "metadata": {},
     "output_type": "execute_result"
    }
   ],
   "source": [
    "print(\"Rótulos das colunas numéricas: \", list(df.columns))\n",
    "df.iloc[:, 9:19].head() # Colunas numéricas\n",
    "# fazer analises"
   ]
  },
  {
   "attachments": {},
   "cell_type": "markdown",
   "metadata": {},
   "source": [
    "Agora que verificamos a tipagem correta dos dados, podemos visualizar as estatísticas descritivas para dados categóricos (1) e numéricos (2)."
   ]
  },
  {
   "cell_type": "code",
   "execution_count": 8,
   "metadata": {},
   "outputs": [
    {
     "data": {
      "text/html": [
       "<div>\n",
       "<style scoped>\n",
       "    .dataframe tbody tr th:only-of-type {\n",
       "        vertical-align: middle;\n",
       "    }\n",
       "\n",
       "    .dataframe tbody tr th {\n",
       "        vertical-align: top;\n",
       "    }\n",
       "\n",
       "    .dataframe thead th {\n",
       "        text-align: right;\n",
       "    }\n",
       "</style>\n",
       "<table border=\"1\" class=\"dataframe\">\n",
       "  <thead>\n",
       "    <tr style=\"text-align: right;\">\n",
       "      <th></th>\n",
       "      <th>emprego</th>\n",
       "      <th>estado_civil</th>\n",
       "      <th>educacao</th>\n",
       "      <th>emprestimo_imobiliario</th>\n",
       "      <th>emprestimo</th>\n",
       "      <th>forma_contato</th>\n",
       "      <th>mes_contato</th>\n",
       "      <th>dia_contato</th>\n",
       "      <th>resultado_anterior</th>\n",
       "      <th>resultado</th>\n",
       "    </tr>\n",
       "  </thead>\n",
       "  <tbody>\n",
       "    <tr>\n",
       "      <th>count</th>\n",
       "      <td>38245</td>\n",
       "      <td>38245</td>\n",
       "      <td>38245</td>\n",
       "      <td>38245</td>\n",
       "      <td>38245</td>\n",
       "      <td>38245</td>\n",
       "      <td>38245</td>\n",
       "      <td>38245</td>\n",
       "      <td>38245</td>\n",
       "      <td>38245</td>\n",
       "    </tr>\n",
       "    <tr>\n",
       "      <th>unique</th>\n",
       "      <td>11</td>\n",
       "      <td>3</td>\n",
       "      <td>7</td>\n",
       "      <td>2</td>\n",
       "      <td>2</td>\n",
       "      <td>2</td>\n",
       "      <td>10</td>\n",
       "      <td>5</td>\n",
       "      <td>3</td>\n",
       "      <td>2</td>\n",
       "    </tr>\n",
       "    <tr>\n",
       "      <th>top</th>\n",
       "      <td>admin.</td>\n",
       "      <td>married</td>\n",
       "      <td>university.degree</td>\n",
       "      <td>yes</td>\n",
       "      <td>no</td>\n",
       "      <td>cellular</td>\n",
       "      <td>may</td>\n",
       "      <td>thu</td>\n",
       "      <td>nonexistent</td>\n",
       "      <td>no</td>\n",
       "    </tr>\n",
       "    <tr>\n",
       "      <th>freq</th>\n",
       "      <td>9937</td>\n",
       "      <td>23183</td>\n",
       "      <td>11821</td>\n",
       "      <td>20578</td>\n",
       "      <td>32286</td>\n",
       "      <td>24441</td>\n",
       "      <td>12794</td>\n",
       "      <td>8011</td>\n",
       "      <td>33066</td>\n",
       "      <td>33987</td>\n",
       "    </tr>\n",
       "  </tbody>\n",
       "</table>\n",
       "</div>"
      ],
      "text/plain": [
       "       emprego estado_civil           educacao emprestimo_imobiliario  \\\n",
       "count    38245        38245              38245                  38245   \n",
       "unique      11            3                  7                      2   \n",
       "top     admin.      married  university.degree                    yes   \n",
       "freq      9937        23183              11821                  20578   \n",
       "\n",
       "       emprestimo forma_contato mes_contato dia_contato resultado_anterior  \\\n",
       "count       38245         38245       38245       38245              38245   \n",
       "unique          2             2          10           5                  3   \n",
       "top            no      cellular         may         thu        nonexistent   \n",
       "freq        32286         24441       12794        8011              33066   \n",
       "\n",
       "       resultado  \n",
       "count      38245  \n",
       "unique         2  \n",
       "top           no  \n",
       "freq       33987  "
      ]
     },
     "execution_count": 8,
     "metadata": {},
     "output_type": "execute_result"
    }
   ],
   "source": [
    "df.describe(include=\"object\") # (1) - Dados Categóricos"
   ]
  },
  {
   "cell_type": "code",
   "execution_count": 9,
   "metadata": {},
   "outputs": [
    {
     "data": {
      "text/html": [
       "<div>\n",
       "<style scoped>\n",
       "    .dataframe tbody tr th:only-of-type {\n",
       "        vertical-align: middle;\n",
       "    }\n",
       "\n",
       "    .dataframe tbody tr th {\n",
       "        vertical-align: top;\n",
       "    }\n",
       "\n",
       "    .dataframe thead th {\n",
       "        text-align: right;\n",
       "    }\n",
       "</style>\n",
       "<table border=\"1\" class=\"dataframe\">\n",
       "  <thead>\n",
       "    <tr style=\"text-align: right;\">\n",
       "      <th></th>\n",
       "      <th>idade</th>\n",
       "      <th>duracao_contato</th>\n",
       "      <th>num_contatos</th>\n",
       "      <th>contatos_anteriores</th>\n",
       "      <th>indice_desemprego</th>\n",
       "      <th>CPI</th>\n",
       "      <th>CCI</th>\n",
       "      <th>Euribor</th>\n",
       "      <th>num_empregados</th>\n",
       "    </tr>\n",
       "  </thead>\n",
       "  <tbody>\n",
       "    <tr>\n",
       "      <th>count</th>\n",
       "      <td>38245.000000</td>\n",
       "      <td>38245.000000</td>\n",
       "      <td>38245.000000</td>\n",
       "      <td>38245.000000</td>\n",
       "      <td>38245.000000</td>\n",
       "      <td>38245.000000</td>\n",
       "      <td>38245.000000</td>\n",
       "      <td>38245.000000</td>\n",
       "      <td>38245.000000</td>\n",
       "    </tr>\n",
       "    <tr>\n",
       "      <th>mean</th>\n",
       "      <td>39.860871</td>\n",
       "      <td>258.207583</td>\n",
       "      <td>2.566662</td>\n",
       "      <td>0.170009</td>\n",
       "      <td>0.082861</td>\n",
       "      <td>93.570313</td>\n",
       "      <td>-40.541164</td>\n",
       "      <td>3.623298</td>\n",
       "      <td>5167.432566</td>\n",
       "    </tr>\n",
       "    <tr>\n",
       "      <th>std</th>\n",
       "      <td>10.289488</td>\n",
       "      <td>259.792638</td>\n",
       "      <td>2.767473</td>\n",
       "      <td>0.487169</td>\n",
       "      <td>1.565945</td>\n",
       "      <td>0.576367</td>\n",
       "      <td>4.623200</td>\n",
       "      <td>1.730226</td>\n",
       "      <td>71.760333</td>\n",
       "    </tr>\n",
       "    <tr>\n",
       "      <th>min</th>\n",
       "      <td>17.000000</td>\n",
       "      <td>0.000000</td>\n",
       "      <td>1.000000</td>\n",
       "      <td>0.000000</td>\n",
       "      <td>-3.400000</td>\n",
       "      <td>92.201000</td>\n",
       "      <td>-50.800000</td>\n",
       "      <td>0.634000</td>\n",
       "      <td>4963.600000</td>\n",
       "    </tr>\n",
       "    <tr>\n",
       "      <th>25%</th>\n",
       "      <td>32.000000</td>\n",
       "      <td>102.000000</td>\n",
       "      <td>1.000000</td>\n",
       "      <td>0.000000</td>\n",
       "      <td>-1.800000</td>\n",
       "      <td>93.075000</td>\n",
       "      <td>-42.700000</td>\n",
       "      <td>1.344000</td>\n",
       "      <td>5099.100000</td>\n",
       "    </tr>\n",
       "    <tr>\n",
       "      <th>50%</th>\n",
       "      <td>38.000000</td>\n",
       "      <td>180.000000</td>\n",
       "      <td>2.000000</td>\n",
       "      <td>0.000000</td>\n",
       "      <td>1.100000</td>\n",
       "      <td>93.444000</td>\n",
       "      <td>-41.800000</td>\n",
       "      <td>4.857000</td>\n",
       "      <td>5191.000000</td>\n",
       "    </tr>\n",
       "    <tr>\n",
       "      <th>75%</th>\n",
       "      <td>47.000000</td>\n",
       "      <td>319.000000</td>\n",
       "      <td>3.000000</td>\n",
       "      <td>0.000000</td>\n",
       "      <td>1.400000</td>\n",
       "      <td>93.994000</td>\n",
       "      <td>-36.400000</td>\n",
       "      <td>4.961000</td>\n",
       "      <td>5228.100000</td>\n",
       "    </tr>\n",
       "    <tr>\n",
       "      <th>max</th>\n",
       "      <td>98.000000</td>\n",
       "      <td>4918.000000</td>\n",
       "      <td>43.000000</td>\n",
       "      <td>7.000000</td>\n",
       "      <td>1.400000</td>\n",
       "      <td>94.767000</td>\n",
       "      <td>-26.900000</td>\n",
       "      <td>5.045000</td>\n",
       "      <td>5228.100000</td>\n",
       "    </tr>\n",
       "  </tbody>\n",
       "</table>\n",
       "</div>"
      ],
      "text/plain": [
       "              idade  duracao_contato  num_contatos  contatos_anteriores  \\\n",
       "count  38245.000000     38245.000000  38245.000000         38245.000000   \n",
       "mean      39.860871       258.207583      2.566662             0.170009   \n",
       "std       10.289488       259.792638      2.767473             0.487169   \n",
       "min       17.000000         0.000000      1.000000             0.000000   \n",
       "25%       32.000000       102.000000      1.000000             0.000000   \n",
       "50%       38.000000       180.000000      2.000000             0.000000   \n",
       "75%       47.000000       319.000000      3.000000             0.000000   \n",
       "max       98.000000      4918.000000     43.000000             7.000000   \n",
       "\n",
       "       indice_desemprego           CPI           CCI       Euribor  \\\n",
       "count       38245.000000  38245.000000  38245.000000  38245.000000   \n",
       "mean            0.082861     93.570313    -40.541164      3.623298   \n",
       "std             1.565945      0.576367      4.623200      1.730226   \n",
       "min            -3.400000     92.201000    -50.800000      0.634000   \n",
       "25%            -1.800000     93.075000    -42.700000      1.344000   \n",
       "50%             1.100000     93.444000    -41.800000      4.857000   \n",
       "75%             1.400000     93.994000    -36.400000      4.961000   \n",
       "max             1.400000     94.767000    -26.900000      5.045000   \n",
       "\n",
       "       num_empregados  \n",
       "count    38245.000000  \n",
       "mean      5167.432566  \n",
       "std         71.760333  \n",
       "min       4963.600000  \n",
       "25%       5099.100000  \n",
       "50%       5191.000000  \n",
       "75%       5228.100000  \n",
       "max       5228.100000  "
      ]
     },
     "execution_count": 9,
     "metadata": {},
     "output_type": "execute_result"
    }
   ],
   "source": [
    "df.describe() # (2) - Dados Numéricos"
   ]
  },
  {
   "attachments": {},
   "cell_type": "markdown",
   "metadata": {},
   "source": [
    "# Testes de Hipótese"
   ]
  },
  {
   "attachments": {},
   "cell_type": "markdown",
   "metadata": {},
   "source": [
    "## 1) Diferença de médias (bootstrap) entre o estado civil, idade, classe social e educação"
   ]
  },
  {
   "cell_type": "code",
   "execution_count": 10,
   "metadata": {},
   "outputs": [
    {
     "data": {
      "text/plain": [
       "Text(0.5, 1.0, 'Aceitaram')"
      ]
     },
     "execution_count": 10,
     "metadata": {},
     "output_type": "execute_result"
    },
    {
     "data": {
      "image/png": "[encoded data removed]",
      "text/plain": [
       "<Figure size 640x480 with 1 Axes>"
      ]
     },
     "metadata": {},
     "output_type": "display_data"
    },
    {
     "data": {
      "image/png": "[encoded data removed]",
      "text/plain": [
       "<Figure size 640x480 with 2 Axes>"
      ]
     },
     "metadata": {},
     "output_type": "display_data"
    }
   ],
   "source": [
    "sns.histplot(df, x=\"estado_civil\", hue=\"resultado\")\n",
    "tmp1 = df[df[\"resultado\"] == 'no'][\"estado_civil\"]\n",
    "tmp2 = df[df[\"resultado\"] == 'yes'][\"estado_civil\"]\n",
    "tmp1 = tmp1.value_counts()\n",
    "tmp2 = tmp2.value_counts()\n",
    "ind = tmp1.index.tolist()\n",
    "tmp1 = tmp1/tmp1.sum() \n",
    "tmp2 = tmp2/tmp2.sum() \n",
    "fig, (ax1, ax2) = plt.subplots(1, 2)\n",
    "ax1.bar(ind,tmp1)\n",
    "ax1.set_title('Recusaram')\n",
    "ax2.bar(ind, tmp2, color='r')\n",
    "ax2.set_title('Aceitaram')\n"
   ]
  },
  {
   "cell_type": "code",
   "execution_count": 11,
   "metadata": {},
   "outputs": [],
   "source": [
    "def bootstrap_diff_mean(vet_1, vet_2, n=1000):\n",
    "    size1, size2 = len(vet_1), len(vet_2)\n",
    "    values_diff = np.zeros(n)\n",
    "    for i in range(n):\n",
    "        np.random.seed(i)\n",
    "        sample1 = np.random.choice(vet_1, size=size1, replace=True)\n",
    "        sample2 = np.random.choice(vet_2, size=size2, replace=True)\n",
    "        values_diff[i] = sample1.mean() - sample2.mean()\n",
    "    \n",
    "    pct_inf = np.percentile(values_diff, 2.5)\n",
    "    pct_sup = np.percentile(values_diff, 97.5)\n",
    "\n",
    "    return pct_inf.round(4), pct_sup.round(4)"
   ]
  },
  {
   "cell_type": "code",
   "execution_count": 13,
   "metadata": {},
   "outputs": [
    {
     "name": "stdout",
     "output_type": "stream",
     "text": [
      "Ambas as variáveis são vetores binários, tendo valor 1 se o aceitou a oferta e 0 caso contrário\n",
      "tmp1: Pessoas casadas\n",
      "tmp2: Pessoas não casadas\n",
      "Intervalo de confiança da diferença da taxa de aceitação de casados e não casados\n"
     ]
    },
    {
     "data": {
      "text/plain": [
       "(-0.0326, -0.02)"
      ]
     },
     "execution_count": 13,
     "metadata": {},
     "output_type": "execute_result"
    }
   ],
   "source": [
    "tmp1 = df[df[\"estado_civil\"] == 'married']\n",
    "tmp1 = tmp1[\"resultado\"]\n",
    "tmp1 = np.where(tmp1 == \"yes\", 1, 0)\n",
    "\n",
    "tmp2 = df[df[\"estado_civil\"] != 'married']\n",
    "tmp2 = tmp2[\"resultado\"]\n",
    "tmp2 = np.where(tmp2 == \"yes\", 1, 0)\n",
    "\n",
    "print(\"Ambas as variáveis são vetores binários, tendo valor 1 se o aceitou a oferta e 0 caso contrário\")\n",
    "print(\"tmp1: Pessoas casadas\")\n",
    "print(\"tmp2: Pessoas não casadas\")\n",
    "print(\"Intervalo de confiança da diferença da taxa de aceitação de casados e não casados\")\n",
    "bootstrap_diff_mean(tmp1, tmp2)"
   ]
  },
  {
   "attachments": {},
   "cell_type": "markdown",
   "metadata": {},
   "source": [
    "Com base no intervalo de confiança acima, temos evidências para rejeitar a hipótese nula de que a chance de uma pessoa aleatória aceitar a proposta é a mesma se ela for casada ou não.<br>\n",
    "Tendo em vista o intervalo negativo, a chance de alguém casado aceitar a proposta é menor do que a de uma pessoa não casada.<br>\n",
    "\n",
    "Tal fato está em concordância com a observação de que o casamento é uma barreira adicional a campanha de marketing, pois mesmo que a campanha convença uma pessoa casada, isso pode não ser o bastante para vender o produto visto que os bens também dizem respeito ao cônjuge da pessoa. "
   ]
  },
  {
   "cell_type": "code",
   "execution_count": 14,
   "metadata": {},
   "outputs": [
    {
     "name": "stdout",
     "output_type": "stream",
     "text": [
      "Ambas as variáveis são vetores binários, tendo valor 1 se o aceitou a oferta e 0 caso contrário\n",
      "tmp1: Pessoas a partir de 40 anos\n",
      "tmp2: Pessoas com menos de 40 anos\n",
      "Intervalo de confiança da diferença da taxa de aceitação entre as faixas etárias\n"
     ]
    },
    {
     "data": {
      "text/plain": [
       "(-0.0151, -0.0023)"
      ]
     },
     "execution_count": 14,
     "metadata": {},
     "output_type": "execute_result"
    }
   ],
   "source": [
    "tmp1 = df[df[\"idade\"] >= 40]\n",
    "tmp1 = tmp1[\"resultado\"]\n",
    "tmp1 = np.where(tmp1 == \"yes\", 1, 0)\n",
    "tmp2 = df[df[\"idade\"] < 40]\n",
    "tmp2 = tmp2[\"resultado\"]\n",
    "tmp2 = np.where(tmp2 == \"yes\", 1, 0)\n",
    "\n",
    "print(\"Ambas as variáveis são vetores binários, tendo valor 1 se o aceitou a oferta e 0 caso contrário\")\n",
    "print(\"tmp1: Pessoas a partir de 40 anos\")\n",
    "print(\"tmp2: Pessoas com menos de 40 anos\")\n",
    "print(\"Intervalo de confiança da diferença da taxa de aceitação entre as faixas etárias\")\n",
    "bootstrap_diff_mean(tmp1, tmp2)"
   ]
  },
  {
   "attachments": {},
   "cell_type": "markdown",
   "metadata": {},
   "source": [
    "A média da idade dos participantes foi escolhida para particionar os dados em 2 grupos.<br>\n",
    "O intervalo de confiança não contém 0, portanto, temos evidência para rejeitar a hipótese nula de que a chance de aceitar o depósito a prazo é a mesma estando acima ou abaixo da média do público alvo."
   ]
  },
  {
   "attachments": {},
   "cell_type": "markdown",
   "metadata": {},
   "source": [
    "## 2) Avaliando o impacto do dia em que foi realizada a ligação no resultado da campanha.(Teste de Permutação)"
   ]
  },
  {
   "cell_type": "code",
   "execution_count": 15,
   "metadata": {},
   "outputs": [],
   "source": [
    "def permutation_test(data, test_value, n_cases=1000):\n",
    "    qt = []\n",
    "    for i in range(n_cases):\n",
    "        sample = data['dia_contato'].sample(frac=1,ignore_index=True)\n",
    "        data.iloc[:,0] = sample\n",
    "        \n",
    "        day_mean = np.mean(data[data['dia_contato'] == 1]['resultado'])\n",
    "\n",
    "        not_day_mean = np.mean(data[data['dia_contato'] == 0]['resultado'])\n",
    "\n",
    "        diff = not_day_mean - day_mean\n",
    "        qt.append(diff)\n",
    "    IS = np.percentile(qt, 97.5)\n",
    "    II = np.percentile(qt, 2.5)\n",
    "    return qt,II,IS"
   ]
  },
  {
   "attachments": {},
   "cell_type": "markdown",
   "metadata": {},
   "source": [
    "Este teste de hipótese irá fazer a permutação na coluna de dia de contato, desassociando-o do sucesso ou não da campnha, assim podendo testar a diferença entre as médias de sucessos da campanha de marketing quando houve contato no dia passado por parâmetro e de sucesso nos dias que não são o passado, para verificar se existe uma diferença estatisticamente relevante que nos possa indicar um viés de sucesso com base no dia em que entrou-se em contato com o cliente."
   ]
  },
  {
   "cell_type": "code",
   "execution_count": 16,
   "metadata": {},
   "outputs": [
    {
     "name": "stdout",
     "output_type": "stream",
     "text": [
      "Dia: mon - IC: (-0.01,0.01) - Mean: 0.0001\n",
      "Dia: tue - IC: (-0.01,0.01) - Mean: 0.0\n",
      "Dia: wed - IC: (-0.01,0.01) - Mean: -0.0001\n",
      "Dia: thu - IC: (-0.01,0.01) - Mean: -0.0001\n",
      "Dia: fri - IC: (-0.01,0.01) - Mean: -0.0001\n"
     ]
    }
   ],
   "source": [
    "days = ['mon','tue','wed','thu','fri']\n",
    "for d in days:\n",
    "    tmp_per = df[['dia_contato','resultado']].copy()\n",
    "\n",
    "    tmp_per['resultado'] = np.where(tmp_per['resultado'] == 'yes',1,0)\n",
    "    tmp_per['dia_contato'] = np.where(tmp_per['dia_contato'] == d,1,0)\n",
    "\n",
    "    day_mean = np.mean(tmp_per[tmp_per['dia_contato'] == 1]['resultado'])\n",
    "\n",
    "    not_day_mean = np.mean(tmp_per[tmp_per['dia_contato'] == 0]['resultado'])\n",
    "    \n",
    "    obs = not_day_mean - day_mean\n",
    "\n",
    "    q, i, s = permutation_test(tmp_per.copy(), d)\n",
    "\n",
    "    print(f\"Dia: {d} - IC: ({np.round(i,2)},{np.round(s,2)}) - Mean: {np.round(np.mean(q),4)}\")"
   ]
  },
  {
   "attachments": {},
   "cell_type": "markdown",
   "metadata": {},
   "source": [
    "Utilizando um Teste de Permutação simples, calculando a diferença entre as médias de sucessos em um dia especifico e as médias de sucessos quando não foi esse dia, para cada um dos dias, foi possível notar que todos os intervalos de confiança estão com o  cvalor 0 entre eles, indecando que não há uma evidência estatística razoável para se crer que há uma influência direta entre o dia que foi entrado em contato com o cliente e o sucesso ou não da campanha de marketing, aceitando-se assim a Hipótese Nula."
   ]
  },
  {
   "cell_type": "code",
   "execution_count": 17,
   "metadata": {},
   "outputs": [
    {
     "data": {
      "image/png": "[encoded data removed]",
      "text/plain": [
       "<Figure size 640x480 with 1 Axes>"
      ]
     },
     "metadata": {},
     "output_type": "display_data"
    }
   ],
   "source": [
    "plt.title('Distribuição do Teste de Permutação para Média de Sucessos na Sexta')\n",
    "plt.axvline(i,color='r',linestyle='--',label='df')\n",
    "plt.axvline(s,color='r',linestyle='--')\n",
    "plt.axvline(obs,color='g',linestyle='dashdot')\n",
    "plt.hist(q,bins=20,rwidth=0.95,color='#A3333D')\n",
    "plt.fill_between([i, s], 0, 150, color='grey', alpha=0.8)\n",
    "plt.show()"
   ]
  },
  {
   "attachments": {},
   "cell_type": "markdown",
   "metadata": {},
   "source": [
    "## 3) Avaliando se o fato de uma pessoa ter contraído algum tipo de empréstimo é relacionado a uma maior proporção de aceites na campanha. "
   ]
  },
  {
   "cell_type": "code",
   "execution_count": 18,
   "metadata": {},
   "outputs": [
    {
     "data": {
      "text/html": [
       "<div>\n",
       "<style scoped>\n",
       "    .dataframe tbody tr th:only-of-type {\n",
       "        vertical-align: middle;\n",
       "    }\n",
       "\n",
       "    .dataframe tbody tr th {\n",
       "        vertical-align: top;\n",
       "    }\n",
       "\n",
       "    .dataframe thead th {\n",
       "        text-align: right;\n",
       "    }\n",
       "</style>\n",
       "<table border=\"1\" class=\"dataframe\">\n",
       "  <thead>\n",
       "    <tr style=\"text-align: right;\">\n",
       "      <th></th>\n",
       "      <th>resultado</th>\n",
       "      <th>algum_emprestimo</th>\n",
       "    </tr>\n",
       "  </thead>\n",
       "  <tbody>\n",
       "    <tr>\n",
       "      <th>0</th>\n",
       "      <td>no</td>\n",
       "      <td>no</td>\n",
       "    </tr>\n",
       "    <tr>\n",
       "      <th>1</th>\n",
       "      <td>no</td>\n",
       "      <td>no</td>\n",
       "    </tr>\n",
       "    <tr>\n",
       "      <th>2</th>\n",
       "      <td>no</td>\n",
       "      <td>yes</td>\n",
       "    </tr>\n",
       "  </tbody>\n",
       "</table>\n",
       "</div>"
      ],
      "text/plain": [
       "  resultado algum_emprestimo\n",
       "0        no               no\n",
       "1        no               no\n",
       "2        no              yes"
      ]
     },
     "execution_count": 18,
     "metadata": {},
     "output_type": "execute_result"
    }
   ],
   "source": [
    "''' \n",
    "    Tratamento do banco de dados antes de realizar o teste.\n",
    "    As variáveis \"emprestimo_imobiliario\" e \"emprestimo\" foram convertidas em uma só variável. \n",
    "'''\n",
    "tmp = df[[\"emprestimo_imobiliario\", \"emprestimo\", \"resultado\"]]\n",
    "\n",
    "loan = []\n",
    "for i in range(len(tmp)):\n",
    "    if tmp[\"emprestimo_imobiliario\"].iloc[i] == 'yes' or tmp[\"emprestimo\"].iloc[i] == 'yes':\n",
    "        loan.append('yes')\n",
    "    else:\n",
    "        loan.append('no')\n",
    "\n",
    "tmp[\"algum_emprestimo\"] = pd.Series(loan)\n",
    "tmp.drop([\"emprestimo\", \"emprestimo_imobiliario\"], axis=1, inplace=True)\n",
    "tmp.dropna(inplace=True)\n",
    "tmp.head(3)"
   ]
  },
  {
   "cell_type": "code",
   "execution_count": 19,
   "metadata": {},
   "outputs": [],
   "source": [
    "def bootstrap_diff_mean_3(vet_1, vet_2, n=1000):\n",
    "    '''\n",
    "    Cria teste de hipóteses por diferença de média (proporção de pessoas que contraíram algum empréstimo)\n",
    "    entre os dois grupos (aceitaram e recusaram a campanha) assumindo uma significância de 5%\n",
    "\n",
    "    Entrada: \n",
    "        vet_1 -> vetor contendo a situação de empréstimo das pessoas que recusaram a campanha (binário)\n",
    "        vet_2 -> vetor contendo a situação de empréstimo das pessoas que aceitaram a campanha (binário)\n",
    "    Saída:\n",
    "        pct_inf -> limite inferior do intervalo de confiança não paramétrico obtido para n amostras \n",
    "        pct_sup -> limite superior do intervalo de confiança não paramétrico obtido para n amostras\n",
    "        \n",
    "    '''\n",
    "    size1, size2 = len(vet_1), len(vet_2)\n",
    "    values_diff = np.zeros(n)\n",
    "    for i in range(n):\n",
    "        np.random.seed(i)\n",
    "    \n",
    "        sample1 = np.random.choice(vet_1, size=size1, replace=True)\n",
    "        sample2 = np.random.choice(vet_2, size=size2, replace=True)\n",
    "        values_diff[i] = sample1.mean() - sample2.mean()\n",
    "    \n",
    "    pct_inf = np.percentile(values_diff, 2.5)\n",
    "    pct_sup = np.percentile(values_diff, 97.5)\n",
    "\n",
    "    return pct_inf.round(4), pct_sup.round(4), values_diff"
   ]
  },
  {
   "cell_type": "code",
   "execution_count": 20,
   "metadata": {},
   "outputs": [
    {
     "name": "stdout",
     "output_type": "stream",
     "text": [
      "IC: (-0.0331, 0.0021)\n"
     ]
    }
   ],
   "source": [
    "tmp1 = tmp[tmp[\"resultado\"] == 'no'][\"algum_emprestimo\"]\n",
    "tmp1 = np.where(tmp1 == \"yes\", 1, 0)\n",
    "\n",
    "tmp2 = tmp[tmp[\"resultado\"] == 'yes'][\"algum_emprestimo\"]\n",
    "tmp2 = np.where(tmp2 == \"yes\", 1, 0)\n",
    "\n",
    "print(\"IC:\", bootstrap_diff_mean_3(tmp1, tmp2)[:2]) # Inclui 0 então é possível explicar pela aleatoriedade"
   ]
  },
  {
   "attachments": {},
   "cell_type": "markdown",
   "metadata": {},
   "source": [
    "O intervalo de confiança para a diferença de média entre os grupos inclui a possibilidade de a estatística ser igual a zero, o que significa que não é possível apontar diferença entre a distribuição da média da variável y (variável Bernoulli indicativa de sucesso no aceite da campanha) para grupos que contraíram pelo menos um tipo de empréstimo no momento em que foram contatados. "
   ]
  },
  {
   "cell_type": "code",
   "execution_count": 21,
   "metadata": {},
   "outputs": [
    {
     "data": {
      "text/plain": [
       "resultado  algum_emprestimo\n",
       "no         yes                 19663\n",
       "           no                  13001\n",
       "yes        yes                  1811\n",
       "           no                   1126\n",
       "Name: count, dtype: int64"
      ]
     },
     "execution_count": 21,
     "metadata": {},
     "output_type": "execute_result"
    }
   ],
   "source": [
    "tmp.value_counts()"
   ]
  },
  {
   "attachments": {},
   "cell_type": "markdown",
   "metadata": {},
   "source": [
    "Podemos notar que a proporção de pessoas com empréstimo em ambos os casos (resultado == \"yes\" ou resultado == \"no\") é bastante semelhante, um indicativo de que não há diferença na distribuição da variável \"algum empréstimo\" entre os dois grupos. "
   ]
  },
  {
   "cell_type": "code",
   "execution_count": 22,
   "metadata": {},
   "outputs": [
    {
     "data": {
      "image/png": "[encoded data removed]",
      "text/plain": [
       "<Figure size 640x480 with 1 Axes>"
      ]
     },
     "metadata": {},
     "output_type": "display_data"
    }
   ],
   "source": [
    "bootstrap = bootstrap_diff_mean_3(tmp1, tmp2)\n",
    "\n",
    "plt.hist(bootstrap[2], color='#A3333D', alpha=0.9, density=False, bins=15, rwidth=0.9)\n",
    "plt.title('Diferença entre médias para o Empréstimo', fontsize=14)\n",
    "plt.fill_between([bootstrap[0], bootstrap[1]], 200, 4, color='grey', alpha=0.8)\n",
    "fig.tight_layout()\n",
    "plt.show()"
   ]
  },
  {
   "attachments": {},
   "cell_type": "markdown",
   "metadata": {},
   "source": [
    "Também é possível observar que a distribuição da diferença de médias entre as amostras aleatórias geradas pelo bootstrap segue uma distribuição normal, conforme comprovado pelo Teorema Central do Limite."
   ]
  },
  {
   "attachments": {},
   "cell_type": "markdown",
   "metadata": {},
   "source": [
    "### 4) Avaliar se a amostra é desbalanceada em relação à quantidade de pessoas que aceitaram a campanha."
   ]
  },
  {
   "cell_type": "code",
   "execution_count": 23,
   "metadata": {},
   "outputs": [
    {
     "data": {
      "text/html": [
       "<div>\n",
       "<style scoped>\n",
       "    .dataframe tbody tr th:only-of-type {\n",
       "        vertical-align: middle;\n",
       "    }\n",
       "\n",
       "    .dataframe tbody tr th {\n",
       "        vertical-align: top;\n",
       "    }\n",
       "\n",
       "    .dataframe thead th {\n",
       "        text-align: right;\n",
       "    }\n",
       "</style>\n",
       "<table border=\"1\" class=\"dataframe\">\n",
       "  <thead>\n",
       "    <tr style=\"text-align: right;\">\n",
       "      <th></th>\n",
       "      <th>resultado</th>\n",
       "      <th>algum_emprestimo</th>\n",
       "    </tr>\n",
       "  </thead>\n",
       "  <tbody>\n",
       "    <tr>\n",
       "      <th>0</th>\n",
       "      <td>no</td>\n",
       "      <td>no</td>\n",
       "    </tr>\n",
       "    <tr>\n",
       "      <th>1</th>\n",
       "      <td>no</td>\n",
       "      <td>no</td>\n",
       "    </tr>\n",
       "    <tr>\n",
       "      <th>2</th>\n",
       "      <td>no</td>\n",
       "      <td>yes</td>\n",
       "    </tr>\n",
       "  </tbody>\n",
       "</table>\n",
       "</div>"
      ],
      "text/plain": [
       "  resultado algum_emprestimo\n",
       "0        no               no\n",
       "1        no               no\n",
       "2        no              yes"
      ]
     },
     "execution_count": 23,
     "metadata": {},
     "output_type": "execute_result"
    }
   ],
   "source": [
    "''' \n",
    "    Tratamento do banco de dados antes de realizar o teste.\n",
    "    As variáveis \"emprestimo_imobiliario\" e \"emprestimo\" foram convertidas em uma só variável. \n",
    "'''\n",
    "tmp = df[[\"emprestimo_imobiliario\", \"emprestimo\", \"resultado\"]]\n",
    "\n",
    "loan = []\n",
    "for i in range(len(tmp)):\n",
    "    if tmp[\"emprestimo_imobiliario\"].iloc[i] == 'yes' or tmp[\"emprestimo\"].iloc[i] == 'yes':\n",
    "        loan.append('yes')\n",
    "    else:\n",
    "        loan.append('no')\n",
    "\n",
    "tmp[\"algum_emprestimo\"] = pd.Series(loan)\n",
    "tmp.drop([\"emprestimo\", \"emprestimo_imobiliario\"], axis=1, inplace=True)\n",
    "tmp.dropna(inplace=True)\n",
    "tmp.head(3)"
   ]
  },
  {
   "attachments": {},
   "cell_type": "markdown",
   "metadata": {},
   "source": [
    "#### Teste Hipótese 4"
   ]
  },
  {
   "cell_type": "code",
   "execution_count": 24,
   "metadata": {},
   "outputs": [],
   "source": [
    "def classic_ic(vetor):\n",
    "    '''\n",
    "    Cria teste de hipóteses para a proporção de pessoas que aceitaram a campanha,\n",
    "    assumindo uma significância de 5%\n",
    "\n",
    "    Entrada: \n",
    "        vetor -> vetor contendo a informação de que a pessoa aceitou ou não a campanha (binário)\n",
    "    Saída:\n",
    "        pct_inf -> limite inferior do intervalo de confiança paramétrico obtido para a amostra\n",
    "        pct_sup -> limite superior do intervalo de confiança paramétrico obtido para a amostra\n",
    "    '''\n",
    "    x_bar = np.mean(vetor) # p\n",
    "    std_bar = np.std(vetor) # p(1-p)\n",
    "    n = len(vetor)\n",
    "    \n",
    "    pct_inf = x_bar - (1.96*std_bar/(n**0.5))\n",
    "    pct_sup = x_bar + (1.96*std_bar/(n**0.5))\n",
    "\n",
    "    return pct_inf.round(4), pct_sup.round(4)"
   ]
  },
  {
   "cell_type": "code",
   "execution_count": 25,
   "metadata": {},
   "outputs": [
    {
     "name": "stdout",
     "output_type": "stream",
     "text": [
      "Intervalo de Confiança para a média populacional: (0.0796, 0.0854)\n",
      "Média (Proporção) Amostral: 0.0825\n"
     ]
    }
   ],
   "source": [
    "tmp3 = np.where(tmp[\"resultado\"] == 'yes', 1, 0)\n",
    "\n",
    "print(\"Intervalo de Confiança para a média populacional:\", classic_ic(tmp3)) \n",
    "print(\"Média (Proporção) Amostral:\", tmp3.mean().round(4))"
   ]
  },
  {
   "attachments": {},
   "cell_type": "markdown",
   "metadata": {},
   "source": [
    "O valor de 50% não está incluído no intervalo de confiança para a distribuição real da média populacional $\\mu$. Isso significa que o fato de a média da variável y ser de 8,25% é muito raro e não pode ser explicado pela aleatoriedade (caso em que a média é 50%). Outro fator a se analisar pode ser de que a seleção da amostra pode ter sido feita de forma enviesada, e por isso ela foi coletada de forma desbalanceada de uma forma que não pode ser explicada pela aleatoriedade."
   ]
  },
  {
   "cell_type": "code",
   "execution_count": 26,
   "metadata": {},
   "outputs": [
    {
     "name": "stdout",
     "output_type": "stream",
     "text": [
      "Estatísticas Descritivas\n"
     ]
    },
    {
     "data": {
      "text/plain": [
       "count    35601.000\n",
       "mean         0.082\n",
       "std          0.275\n",
       "dtype: float64"
      ]
     },
     "execution_count": 26,
     "metadata": {},
     "output_type": "execute_result"
    }
   ],
   "source": [
    "print(\"Estatísticas Descritivas\")\n",
    "pd.Series(tmp3).describe()[:3].round(3)"
   ]
  },
  {
   "cell_type": "code",
   "execution_count": 27,
   "metadata": {},
   "outputs": [
    {
     "data": {
      "image/png": "[encoded data removed]",
      "text/plain": [
       "<Figure size 640x480 with 1 Axes>"
      ]
     },
     "metadata": {},
     "output_type": "display_data"
    }
   ],
   "source": [
    "import numpy as np\n",
    "rand_norm = np.random.normal(tmp3.mean(), tmp3.std()/(len(tmp3)**0.5), 1000)\n",
    "ic = classic_ic(tmp3)\n",
    "\n",
    "plt.hist(rand_norm, color='#A3333D', alpha=0.9, density=False, bins=15, rwidth=0.9)\n",
    "plt.title('IC Esperado para a Média Populacional', fontsize=14)\n",
    "plt.fill_between([ic[0], ic[1]], 200, 4, color='grey', alpha=0.8)\n",
    "fig.tight_layout()\n",
    "plt.show()"
   ]
  },
  {
   "attachments": {},
   "cell_type": "markdown",
   "metadata": {},
   "source": [
    "Assumindo que a distribuição da proporção amostral segue uma distribuição normal conforme o Teorema Central do Limite, podemos observar que o intervalo de confiança para a proporção de ocorrência do evento y == 1 é bastante distante do caso puramente aleatório (proporção = 50%), rejeitando H0. "
   ]
  },
  {
   "attachments": {},
   "cell_type": "markdown",
   "metadata": {},
   "source": [
    "# Problema de Pesquisa\n",
    "\n",
    "Envolve prever a probabilidade de sucesso ou fracasso de uma campanha de marketing do Banco de Portugal conforme os valores obtidos para as variáveis independentes, que envolvem: características do cliente, conjuntura macroeconômica e últimas interações do cliente com a campanha. "
   ]
  },
  {
   "cell_type": "markdown",
   "metadata": {},
   "source": [
    "# Modelagem - Regressão Logística\n",
    "\n",
    "**Documentação:** https://scikit-learn.org/stable/modules/generated/sklearn.linear_model.LogisticRegression.html"
   ]
  },
  {
   "cell_type": "markdown",
   "metadata": {},
   "source": [
    "## Encoding"
   ]
  },
  {
   "cell_type": "code",
   "execution_count": 59,
   "metadata": {},
   "outputs": [
    {
     "data": {
      "text/html": [
       "<div>\n",
       "<style scoped>\n",
       "    .dataframe tbody tr th:only-of-type {\n",
       "        vertical-align: middle;\n",
       "    }\n",
       "\n",
       "    .dataframe tbody tr th {\n",
       "        vertical-align: top;\n",
       "    }\n",
       "\n",
       "    .dataframe thead th {\n",
       "        text-align: right;\n",
       "    }\n",
       "</style>\n",
       "<table border=\"1\" class=\"dataframe\">\n",
       "  <thead>\n",
       "    <tr style=\"text-align: right;\">\n",
       "      <th></th>\n",
       "      <th>idade</th>\n",
       "      <th>emprego</th>\n",
       "      <th>estado_civil</th>\n",
       "      <th>educacao</th>\n",
       "      <th>emprestimo_imobiliario</th>\n",
       "      <th>emprestimo</th>\n",
       "      <th>forma_contato</th>\n",
       "      <th>mes_contato</th>\n",
       "      <th>dia_contato</th>\n",
       "      <th>duracao_contato</th>\n",
       "      <th>num_contatos</th>\n",
       "      <th>contatos_anteriores</th>\n",
       "      <th>resultado_anterior</th>\n",
       "      <th>indice_desemprego</th>\n",
       "      <th>CPI</th>\n",
       "      <th>CCI</th>\n",
       "      <th>Euribor</th>\n",
       "      <th>num_empregados</th>\n",
       "      <th>resultado</th>\n",
       "    </tr>\n",
       "  </thead>\n",
       "  <tbody>\n",
       "    <tr>\n",
       "      <th>0</th>\n",
       "      <td>56</td>\n",
       "      <td>housemaid</td>\n",
       "      <td>married</td>\n",
       "      <td>basic.4y</td>\n",
       "      <td>no</td>\n",
       "      <td>no</td>\n",
       "      <td>telephone</td>\n",
       "      <td>may</td>\n",
       "      <td>mon</td>\n",
       "      <td>261</td>\n",
       "      <td>1</td>\n",
       "      <td>0</td>\n",
       "      <td>nonexistent</td>\n",
       "      <td>1.1</td>\n",
       "      <td>93.994</td>\n",
       "      <td>-36.4</td>\n",
       "      <td>4.857</td>\n",
       "      <td>5191.0</td>\n",
       "      <td>no</td>\n",
       "    </tr>\n",
       "    <tr>\n",
       "      <th>1</th>\n",
       "      <td>57</td>\n",
       "      <td>services</td>\n",
       "      <td>married</td>\n",
       "      <td>high.school</td>\n",
       "      <td>no</td>\n",
       "      <td>no</td>\n",
       "      <td>telephone</td>\n",
       "      <td>may</td>\n",
       "      <td>mon</td>\n",
       "      <td>149</td>\n",
       "      <td>1</td>\n",
       "      <td>0</td>\n",
       "      <td>nonexistent</td>\n",
       "      <td>1.1</td>\n",
       "      <td>93.994</td>\n",
       "      <td>-36.4</td>\n",
       "      <td>4.857</td>\n",
       "      <td>5191.0</td>\n",
       "      <td>no</td>\n",
       "    </tr>\n",
       "    <tr>\n",
       "      <th>2</th>\n",
       "      <td>37</td>\n",
       "      <td>services</td>\n",
       "      <td>married</td>\n",
       "      <td>high.school</td>\n",
       "      <td>yes</td>\n",
       "      <td>no</td>\n",
       "      <td>telephone</td>\n",
       "      <td>may</td>\n",
       "      <td>mon</td>\n",
       "      <td>226</td>\n",
       "      <td>1</td>\n",
       "      <td>0</td>\n",
       "      <td>nonexistent</td>\n",
       "      <td>1.1</td>\n",
       "      <td>93.994</td>\n",
       "      <td>-36.4</td>\n",
       "      <td>4.857</td>\n",
       "      <td>5191.0</td>\n",
       "      <td>no</td>\n",
       "    </tr>\n",
       "    <tr>\n",
       "      <th>3</th>\n",
       "      <td>40</td>\n",
       "      <td>admin.</td>\n",
       "      <td>married</td>\n",
       "      <td>basic.6y</td>\n",
       "      <td>no</td>\n",
       "      <td>no</td>\n",
       "      <td>telephone</td>\n",
       "      <td>may</td>\n",
       "      <td>mon</td>\n",
       "      <td>151</td>\n",
       "      <td>1</td>\n",
       "      <td>0</td>\n",
       "      <td>nonexistent</td>\n",
       "      <td>1.1</td>\n",
       "      <td>93.994</td>\n",
       "      <td>-36.4</td>\n",
       "      <td>4.857</td>\n",
       "      <td>5191.0</td>\n",
       "      <td>no</td>\n",
       "    </tr>\n",
       "    <tr>\n",
       "      <th>4</th>\n",
       "      <td>56</td>\n",
       "      <td>services</td>\n",
       "      <td>married</td>\n",
       "      <td>high.school</td>\n",
       "      <td>no</td>\n",
       "      <td>yes</td>\n",
       "      <td>telephone</td>\n",
       "      <td>may</td>\n",
       "      <td>mon</td>\n",
       "      <td>307</td>\n",
       "      <td>1</td>\n",
       "      <td>0</td>\n",
       "      <td>nonexistent</td>\n",
       "      <td>1.1</td>\n",
       "      <td>93.994</td>\n",
       "      <td>-36.4</td>\n",
       "      <td>4.857</td>\n",
       "      <td>5191.0</td>\n",
       "      <td>no</td>\n",
       "    </tr>\n",
       "  </tbody>\n",
       "</table>\n",
       "</div>"
      ],
      "text/plain": [
       "   idade    emprego estado_civil     educacao emprestimo_imobiliario  \\\n",
       "0     56  housemaid      married     basic.4y                     no   \n",
       "1     57   services      married  high.school                     no   \n",
       "2     37   services      married  high.school                    yes   \n",
       "3     40     admin.      married     basic.6y                     no   \n",
       "4     56   services      married  high.school                     no   \n",
       "\n",
       "  emprestimo forma_contato mes_contato dia_contato  duracao_contato  \\\n",
       "0         no     telephone         may         mon              261   \n",
       "1         no     telephone         may         mon              149   \n",
       "2         no     telephone         may         mon              226   \n",
       "3         no     telephone         may         mon              151   \n",
       "4        yes     telephone         may         mon              307   \n",
       "\n",
       "   num_contatos  contatos_anteriores resultado_anterior  indice_desemprego  \\\n",
       "0             1                    0        nonexistent                1.1   \n",
       "1             1                    0        nonexistent                1.1   \n",
       "2             1                    0        nonexistent                1.1   \n",
       "3             1                    0        nonexistent                1.1   \n",
       "4             1                    0        nonexistent                1.1   \n",
       "\n",
       "      CPI   CCI  Euribor  num_empregados resultado  \n",
       "0  93.994 -36.4    4.857          5191.0        no  \n",
       "1  93.994 -36.4    4.857          5191.0        no  \n",
       "2  93.994 -36.4    4.857          5191.0        no  \n",
       "3  93.994 -36.4    4.857          5191.0        no  \n",
       "4  93.994 -36.4    4.857          5191.0        no  "
      ]
     },
     "execution_count": 59,
     "metadata": {},
     "output_type": "execute_result"
    }
   ],
   "source": [
    "dr = df.copy()\n",
    "dr.head()"
   ]
  },
  {
   "cell_type": "code",
   "execution_count": 60,
   "metadata": {},
   "outputs": [],
   "source": [
    "dr['estado_civil'] = dr['estado_civil'].replace(['single', 'divorced'], 'non-married')\n",
    "one_hot_estado_civil = pd.get_dummies(dr['estado_civil'],dtype=int)\n",
    "dr = dr.drop('estado_civil', axis=1)\n",
    "dr = dr.join(one_hot_estado_civil)\n",
    "\n",
    "dr['educacao'] = dr['educacao'].replace(['basic.4y', 'basic.9y', 'basic.6y'], 'basic')\n",
    "one_hot_educacao = pd.get_dummies(dr['educacao'],dtype=int)\n",
    "dr = dr.drop('educacao', axis=1)\n",
    "dr = dr.join(one_hot_educacao)\n",
    "\n",
    "dr['emprestimo'] = dr['emprestimo'].replace(['yes', 'no'], [1,0])\n",
    "dr['emprestimo_imobiliario'] = dr['emprestimo_imobiliario'].replace(['yes', 'no'], [1,0])\n",
    "\n",
    "one_hot_forma_contato = pd.get_dummies(dr['forma_contato'],dtype=int)\n",
    "dr = dr.drop('forma_contato', axis=1)\n",
    "dr = dr.join(one_hot_forma_contato)\n",
    "\n",
    "one_hot_mes = pd.get_dummies(dr['mes_contato'],dtype=int)\n",
    "dr = dr.drop('mes_contato', axis=1)\n",
    "dr = dr.join(one_hot_mes)\n",
    "\n",
    "one_hot_dia = pd.get_dummies(dr['dia_contato'],dtype=int)\n",
    "dr = dr.drop('dia_contato', axis=1)\n",
    "dr = dr.join(one_hot_dia)\n",
    "\n",
    "dr['resultado_anterior'] = dr['resultado_anterior'].replace(['failure','nonexistent', 'success'], [-1,0,1])\n",
    "\n",
    "one_hot_emprego = pd.get_dummies(dr['emprego'],dtype=int)\n",
    "dr = dr.drop('emprego', axis=1)\n",
    "dr = dr.join(one_hot_emprego)\n",
    "\n",
    "dr['resultado'] = dr['resultado'].replace(['yes','no'], [1,0])"
   ]
  },
  {
   "cell_type": "markdown",
   "metadata": {},
   "source": [
    "## Separando os dados em treino e teste"
   ]
  },
  {
   "cell_type": "code",
   "execution_count": 61,
   "metadata": {},
   "outputs": [],
   "source": [
    "drr = shuffle(dr)\n",
    "dfs = np.array_split(drr, 7)\n",
    "treino = dfs[2:]\n",
    "teste = dfs[:2]\n",
    "treino_alvo = [data['resultado'] for data in treino]\n",
    "teste_alvo = [data['resultado'] for data in teste]\n",
    "for data in teste:\n",
    "    data = data.drop('resultado', axis=1)\n",
    "for data in treino:\n",
    "    data = data.drop('resultado', axis=1)"
   ]
  },
  {
   "cell_type": "markdown",
   "metadata": {},
   "source": [
    "## Modelo"
   ]
  },
  {
   "cell_type": "code",
   "execution_count": 62,
   "metadata": {},
   "outputs": [],
   "source": [
    "def Logistic_Regression_Model(training_sets, target_sets):\n",
    "    model = LogisticRegression()\n",
    "    data = pd.concat(training_sets)\n",
    "    target = pd.concat(target_sets)\n",
    "    model.fit(data, target)\n",
    "    return model\n",
    "\n",
    "def Model_Accuracy(model, test_set, test_target):\n",
    "    test_set = pd.concat(test_set)\n",
    "    test_target = pd.concat(test_target)\n",
    "    testing_prediction = model.predict(test_set)\n",
    "    accuracy = accuracy_score(test_target, testing_prediction)\n",
    "    return accuracy"
   ]
  },
  {
   "cell_type": "code",
   "execution_count": 63,
   "metadata": {},
   "outputs": [
    {
     "name": "stdout",
     "output_type": "stream",
     "text": [
      "0.9511346998535871\n"
     ]
    }
   ],
   "source": [
    "modelo = Logistic_Regression_Model(treino, treino_alvo)\n",
    "predict = Model_Accuracy(modelo, teste, teste_alvo)\n",
    "print(predict)"
   ]
  },
  {
   "cell_type": "markdown",
   "metadata": {},
   "source": [
    "Usando uma regressão logística préviamente implementada pela biblioteca Sklearn, foi possível gerar um modelo que acertou os rótulos do conjunto de teste com uma acurácia de 95.11%.\n",
    "Tal resultado foi espantoso, então o processo foi repetido diversas vezes para avaliar se a precisão do modelo se tratava de flutuação estatística ou se o modelo de regressão logística realmente capturava o fenômeno estudado com tamanha precisão."
   ]
  },
  {
   "cell_type": "code",
   "execution_count": null,
   "metadata": {},
   "outputs": [],
   "source": [
    "#accuracies = [predict]\n",
    "#for i in range(10):\n",
    "#"
   ]
  },
  {
   "cell_type": "markdown",
   "metadata": {},
   "source": [
    "# Utilizando Sklearn..."
   ]
  },
  {
   "cell_type": "code",
   "execution_count": 33,
   "metadata": {},
   "outputs": [],
   "source": [
    "from sklearn.linear_model import LogisticRegression\n",
    "from sklearn.model_selection import train_test_split\n",
    "from sklearn.metrics import classification_report, confusion_matrix, accuracy_score, roc_curve, auc\n",
    "from sklearn.preprocessing import OneHotEncoder"
   ]
  },
  {
   "cell_type": "code",
   "execution_count": 34,
   "metadata": {},
   "outputs": [
    {
     "data": {
      "text/html": [
       "<div>\n",
       "<style scoped>\n",
       "    .dataframe tbody tr th:only-of-type {\n",
       "        vertical-align: middle;\n",
       "    }\n",
       "\n",
       "    .dataframe tbody tr th {\n",
       "        vertical-align: top;\n",
       "    }\n",
       "\n",
       "    .dataframe thead th {\n",
       "        text-align: right;\n",
       "    }\n",
       "</style>\n",
       "<table border=\"1\" class=\"dataframe\">\n",
       "  <thead>\n",
       "    <tr style=\"text-align: right;\">\n",
       "      <th></th>\n",
       "      <th>idade</th>\n",
       "      <th>emprego</th>\n",
       "      <th>estado_civil</th>\n",
       "      <th>educacao</th>\n",
       "      <th>emprestimo_imobiliario</th>\n",
       "      <th>emprestimo</th>\n",
       "      <th>forma_contato</th>\n",
       "      <th>mes_contato</th>\n",
       "      <th>dia_contato</th>\n",
       "      <th>duracao_contato</th>\n",
       "      <th>num_contatos</th>\n",
       "      <th>contatos_anteriores</th>\n",
       "      <th>resultado_anterior</th>\n",
       "      <th>indice_desemprego</th>\n",
       "      <th>CPI</th>\n",
       "      <th>CCI</th>\n",
       "      <th>Euribor</th>\n",
       "      <th>num_empregados</th>\n",
       "      <th>resultado</th>\n",
       "    </tr>\n",
       "  </thead>\n",
       "  <tbody>\n",
       "    <tr>\n",
       "      <th>0</th>\n",
       "      <td>56</td>\n",
       "      <td>housemaid</td>\n",
       "      <td>married</td>\n",
       "      <td>basic.4y</td>\n",
       "      <td>no</td>\n",
       "      <td>no</td>\n",
       "      <td>telephone</td>\n",
       "      <td>may</td>\n",
       "      <td>mon</td>\n",
       "      <td>261</td>\n",
       "      <td>1</td>\n",
       "      <td>0</td>\n",
       "      <td>nonexistent</td>\n",
       "      <td>1.1</td>\n",
       "      <td>93.994</td>\n",
       "      <td>-36.4</td>\n",
       "      <td>4.857</td>\n",
       "      <td>5191.0</td>\n",
       "      <td>no</td>\n",
       "    </tr>\n",
       "    <tr>\n",
       "      <th>1</th>\n",
       "      <td>57</td>\n",
       "      <td>services</td>\n",
       "      <td>married</td>\n",
       "      <td>high.school</td>\n",
       "      <td>no</td>\n",
       "      <td>no</td>\n",
       "      <td>telephone</td>\n",
       "      <td>may</td>\n",
       "      <td>mon</td>\n",
       "      <td>149</td>\n",
       "      <td>1</td>\n",
       "      <td>0</td>\n",
       "      <td>nonexistent</td>\n",
       "      <td>1.1</td>\n",
       "      <td>93.994</td>\n",
       "      <td>-36.4</td>\n",
       "      <td>4.857</td>\n",
       "      <td>5191.0</td>\n",
       "      <td>no</td>\n",
       "    </tr>\n",
       "    <tr>\n",
       "      <th>2</th>\n",
       "      <td>37</td>\n",
       "      <td>services</td>\n",
       "      <td>married</td>\n",
       "      <td>high.school</td>\n",
       "      <td>yes</td>\n",
       "      <td>no</td>\n",
       "      <td>telephone</td>\n",
       "      <td>may</td>\n",
       "      <td>mon</td>\n",
       "      <td>226</td>\n",
       "      <td>1</td>\n",
       "      <td>0</td>\n",
       "      <td>nonexistent</td>\n",
       "      <td>1.1</td>\n",
       "      <td>93.994</td>\n",
       "      <td>-36.4</td>\n",
       "      <td>4.857</td>\n",
       "      <td>5191.0</td>\n",
       "      <td>no</td>\n",
       "    </tr>\n",
       "  </tbody>\n",
       "</table>\n",
       "</div>"
      ],
      "text/plain": [
       "   idade    emprego estado_civil     educacao emprestimo_imobiliario  \\\n",
       "0     56  housemaid      married     basic.4y                     no   \n",
       "1     57   services      married  high.school                     no   \n",
       "2     37   services      married  high.school                    yes   \n",
       "\n",
       "  emprestimo forma_contato mes_contato dia_contato  duracao_contato  \\\n",
       "0         no     telephone         may         mon              261   \n",
       "1         no     telephone         may         mon              149   \n",
       "2         no     telephone         may         mon              226   \n",
       "\n",
       "   num_contatos  contatos_anteriores resultado_anterior  indice_desemprego  \\\n",
       "0             1                    0        nonexistent                1.1   \n",
       "1             1                    0        nonexistent                1.1   \n",
       "2             1                    0        nonexistent                1.1   \n",
       "\n",
       "      CPI   CCI  Euribor  num_empregados resultado  \n",
       "0  93.994 -36.4    4.857          5191.0        no  \n",
       "1  93.994 -36.4    4.857          5191.0        no  \n",
       "2  93.994 -36.4    4.857          5191.0        no  "
      ]
     },
     "execution_count": 34,
     "metadata": {},
     "output_type": "execute_result"
    }
   ],
   "source": [
    "df.head(3)"
   ]
  },
  {
   "cell_type": "markdown",
   "metadata": {},
   "source": [
    "Ao analisar a base de dados em questão, nota-se que há uma gama de variáveis categóricas. Entretanto, para realizar a previsão utilizando de regressão logística, o modelo só aceita valores numéricos, pois considera a variância das observações como ponto de partida para a sua estimação. \n",
    "\n",
    "Por isso, realizamos o processo de \"encoding\" (codificação) das variáveis categóricas a serem utilizadas no modelo, por meio da sua substituição por **variáveis dummy** que indicam a ocorrência ou não de determinada categoria naquela observação. "
   ]
  },
  {
   "cell_type": "code",
   "execution_count": 35,
   "metadata": {},
   "outputs": [],
   "source": [
    "tmp = df.copy()\n",
    "\n",
    "tmp['estado_civil'] = tmp['estado_civil'].replace(['single', 'divorced'], 'non-married')\n",
    "one_hot_estado_civil = pd.get_dummies(tmp['estado_civil'],dtype=int)\n",
    "tmp = tmp.drop('estado_civil', axis=1)\n",
    "tmp = tmp.join(one_hot_estado_civil)\n",
    "\n",
    "tmp['educacao'] = tmp['educacao'].replace(['basic.4y', 'basic.9y', 'basic.6y'], 'basic')\n",
    "one_hot_educacao = pd.get_dummies(tmp['educacao'],dtype=int)\n",
    "tmp = tmp.drop('educacao', axis=1)\n",
    "tmp = tmp.join(one_hot_educacao)\n",
    "\n",
    "tmp['emprestimo'] = tmp['emprestimo'].replace(['yes', 'no'], [1,0])\n",
    "tmp['emprestimo_imobiliario'] = tmp['emprestimo_imobiliario'].replace(['yes', 'no'], [1,0])\n",
    "\n",
    "one_hot_forma_contato = pd.get_dummies(tmp['forma_contato'],dtype=int)\n",
    "tmp = tmp.drop('forma_contato', axis=1)\n",
    "tmp = tmp.join(one_hot_forma_contato)\n",
    "\n",
    "one_hot_mes = pd.get_dummies(tmp['mes_contato'],dtype=int)\n",
    "tmp = tmp.drop('mes_contato', axis=1)\n",
    "tmp = tmp.join(one_hot_mes)\n",
    "\n",
    "one_hot_dia = pd.get_dummies(tmp['dia_contato'],dtype=int)\n",
    "tmp = tmp.drop('dia_contato', axis=1)\n",
    "tmp = tmp.join(one_hot_dia)\n",
    "\n",
    "tmp['resultado_anterior'] = tmp['resultado_anterior'].replace(['failure','nonexistent', 'success'], [-1,0,1])\n",
    "\n",
    "one_hot_emprego = pd.get_dummies(tmp['emprego'],dtype=int)\n",
    "tmp = tmp.drop('emprego', axis=1)\n",
    "tmp = tmp.join(one_hot_emprego)\n",
    "\n",
    "tmp['resultado'] = tmp['resultado'].replace(['yes','no'], [1,0])"
   ]
  },
  {
   "cell_type": "code",
   "execution_count": 36,
   "metadata": {},
   "outputs": [],
   "source": [
    "# obj_cols = df.select_dtypes(include=\"object\").columns.tolist()\n",
    "# tmp = df[obj_cols]\n",
    "# encoder = OneHotEncoder()\n",
    "# tmp = encoder.fit_transform(tmp)\n",
    "# df[obj_cols] = tmp\n",
    "# df"
   ]
  },
  {
   "cell_type": "markdown",
   "metadata": {},
   "source": [
    "Realiza a divisão das bases de treinamento e teste (out of sample) a serem utilizadas pelo modelo.\n",
    "\n",
    "A função `train_test_split()` retorna uma tupla com 4 elementos, que são respectivamente: x_treino, x_teste, y_treino, y_teste"
   ]
  },
  {
   "cell_type": "code",
   "execution_count": 37,
   "metadata": {},
   "outputs": [],
   "source": [
    "X = tmp.drop(\"resultado\", axis = 1)\n",
    "y = tmp[\"resultado\"]\n",
    "\n",
    "X_train, X_test, y_train, y_test = train_test_split(X, y, test_size = 0.2, random_state = 42)"
   ]
  },
  {
   "cell_type": "markdown",
   "metadata": {},
   "source": [
    "Todos os modelos criados são objetos que herdam características semelhantes com base na tarefa desempenhada (classificação, regressão e clusterização), por isso métodos específicos podem ser aplicados a objetos diferentes.\n",
    "\n",
    "Inicialmente, o modelo é instanciado como um objeto onde podem ser alterados seus parâmetros (que podem ser otimizados).\n",
    "\n",
    "Posteriormente, o modelo é ajustado em cima de uma base de dados (arrays n-dimensionais X e y). A partir daí podemos extrair métricas de avaliação de desempenho, realizar previsões entre outros.\n",
    "\n",
    "Métodos aplicáveis aos estimadores:\n",
    "\n",
    "* **fit(X, y)** -> ajusta o modelo e salva os resultados no objeto dele\n",
    "\n",
    "* **predict(X)** -> aplica o modelo em um conjunto de variáveis independentes (array) e retorna outro array com as previsões obtidas"
   ]
  },
  {
   "cell_type": "code",
   "execution_count": 38,
   "metadata": {},
   "outputs": [],
   "source": [
    "modelo = LogisticRegression()\n",
    "modelo.fit(X_train, y_train)\n",
    "y_pred = modelo.predict(X_test)"
   ]
  },
  {
   "cell_type": "markdown",
   "metadata": {},
   "source": [
    "### Avaliação de Resultados\n",
    "\n",
    "* **Matriz de Confusão:** Realiza uma comparação entre os valores obtidos em duas colunas de valores categóricos. Quando a resposta é binária(0 ou 1), temos a tabela com os valores obtidos que batem ou não (True Positive, False Negative, False Positive, True Negative).\n",
    "\n",
    "**Obs.:** A matriz de confusão retornada é uma versão invertida da comum.\n",
    "\n",
    "* **Acurácia:** Retorna a acurácia do modelo, ou seja, a % de acertos em relação ao total de previsões realizadas.\n",
    "\n",
    "**Obs.:** Esta não é uma boa métrica de avaliação em conjuntos de dados que não são distribuídos igualmente. Em um dataset no qual 99% do target equivale a um mesmo valor, um modelo que prevê que ocorrerá sempre esse valor obtêm uma acurácia de 99%.\n",
    "\n",
    "> **Cálculo:** (TP + TN) / (TP + TN + FP + FN)\n",
    "\n",
    "* **Precisão:** A precisão mede qual a taxa de acerto do modelo em suas previsões positivas.\n",
    "\n",
    "> **Cálculo:**: TP / (TP + FP)\n",
    "\n",
    "* **Revocação (recall):** A revocação mede a taxa de acerto do modelo em suas previsões referentes aos valores que são positivos no conjunto de teste.\n",
    "\n",
    "> **Cálculo:**: TP / (TP + FN)\n",
    "\n",
    "* **F1-Score:** A estatística F1 calcula uma média harmônica entre a precisão e o recall de um modelo (penalizando valores menores), a fim de maximizar ambos ao mesmo tempo.\n",
    "\n",
    "> **Cálculo:**: 2 * (precisão * recall) / (precisão + recall)"
   ]
  },
  {
   "cell_type": "code",
   "execution_count": 39,
   "metadata": {},
   "outputs": [
    {
     "name": "stdout",
     "output_type": "stream",
     "text": [
      "----------------------------------------------------------------------------\n",
      "Matriz de Confusão\n",
      "[[6622  170]\n",
      " [ 517  340]] \n",
      "\n",
      "----------------------------------------------------------------------------\n",
      "Relatório de Métricas\n",
      "              precision    recall  f1-score   support\n",
      "\n",
      "           0     0.9276    0.9750    0.9507      6792\n",
      "           1     0.6667    0.3967    0.4974       857\n",
      "\n",
      "    accuracy                         0.9102      7649\n",
      "   macro avg     0.7971    0.6859    0.7241      7649\n",
      "weighted avg     0.8983    0.9102    0.8999      7649\n",
      "\n",
      "----------------------------------------------------------------------------\n",
      "AUC - Teste : 0.6859\n"
     ]
    }
   ],
   "source": [
    "# Matriz de Confusão\n",
    "print(\"----------------------------------------------------------------------------\")\n",
    "print(\"Matriz de Confusão\")\n",
    "print(confusion_matrix(y_test, y_pred), \"\\n\")\n",
    "\n",
    "# Métricas de Avaliação\n",
    "print(\"----------------------------------------------------------------------------\")\n",
    "print(\"Relatório de Métricas\")\n",
    "print(classification_report(y_test, y_pred, digits=4))\n",
    "\n",
    "# Calculando a AUC (Area Under the Curve)\n",
    "print(\"----------------------------------------------------------------------------\")\n",
    "fpr, tpr, thresholds = roc_curve(y_test, y_pred)\n",
    "roc_auc = auc(fpr, tpr)\n",
    "\n",
    "print(\"AUC - Teste :\", round(roc_auc, 4))"
   ]
  },
  {
   "cell_type": "markdown",
   "metadata": {},
   "source": [
    "### Otimização"
   ]
  },
  {
   "cell_type": "markdown",
   "metadata": {},
   "source": [
    "O resultado da previsão a partir do modelo logístico é a probabilidade de ocorrência de um resultado positivo na variável dependente, que pode ser interpretado de diferentes maneiras com base no problema. O padrão estabelecido é um ponto de corte (threshold) de 50%, ou seja, assumimos que Y=1 irá ocorrer a partir do momento em que sua probabilidade de ocorrência for maior do que 50%.\n",
    "\n",
    "Este hiperparâmetro pode ser otimizado conforme estamos dispostos a aceitar uma maior proporção de previsões corretas para um resultado (0 ou 1), em detrimento de uma maior proporção de previsões erradas da outra variável. Isso significa maximizar a precisão em detrimento do recall, ou vice-versa.\n",
    "\n",
    "Em uma regressão logística, a curva ROC pode ser calculada a partir de um mesmo modelo estimando-se a True Positive Rate e a False Positive Rate para cada threshold, e pode servir para representar de outra forma esta relação de trade-off. O threshold ideal a ser escolhido deve estar o mais próximo possível do canto superior esquerdo do gráfico.\n",
    "\n",
    "Existem diversas formas de encontrar um threshold ótimo que maximize essa relação. São elas:\n",
    "\n",
    "A) O modelo com o ponto de corte ótimo deve apresentar a maior média geométrica entre sensibilidade e especificidade.\n",
    "\n",
    "* **Sensibilidade:** é o recall da classe positiva (TP Rate), ou seja, TP / (TP + FN) -> taxa de acerto das previsões, quando o alvo é positivo\n",
    "\n",
    "* **Especificidade:** é o recall da classe negativa (TN Rate ou 1 - FP Rate), ou seja, TN / (TN + FP) -> taxa de acerto das previsões, quando o alvo é negativo\n",
    "\n",
    "> **Cálculo:** Média Geométrica = (sensibilidade * especificidade)^(1/2)\n",
    "\n",
    "B) O modelo com o ponto de corte ótimo deve apresentar o maior valor para a estatística J de Youden.\n",
    "\n",
    "* **Cálculo:** J = sensibilidade + especificidade - 1 => J = TPR - FPR\n",
    "\n",
    "C) O modelo com o ponto de corte ótimo deve apresentar o maior valor para o F1-Score, que é a média harmônica entre precisão e recall, a fim de maximizá-los ao mesmo tempo.\n",
    "\n",
    "* **Cálculo:** F1 = 2 * (precisão * recall) / (precisão + recall)\n",
    "\n",
    "**Obs.:** O método modelo.predict_proba(X_test) é interessante pois retorna somente as probabilidades previstas de que Y=1 no conjunto de teste. Com ele podemos alterar o threshold na mão, criando outro array com os valores previstos dada uma threshold diferente de 50%."
   ]
  },
  {
   "cell_type": "code",
   "execution_count": 40,
   "metadata": {},
   "outputs": [
    {
     "name": "stdout",
     "output_type": "stream",
     "text": [
      "O threshold ótimo é de:  0.372\n"
     ]
    },
    {
     "data": {
      "image/png": "[encoded data removed]",
      "text/plain": [
       "<Figure size 640x480 with 1 Axes>"
      ]
     },
     "metadata": {},
     "output_type": "display_data"
    }
   ],
   "source": [
    "i = np.arange(len(tpr))\n",
    "df_thresholds = pd.DataFrame({'fpr' : pd.Series(fpr, index = i),\n",
    "                          'tpr' : pd.Series(tpr, index = i), # sensibilidade\n",
    "                          '1-fpr' : pd.Series(1-fpr, index = i), # especificidade\n",
    "                          'J' : pd.Series(tpr + (1 - fpr) - 1, index = i), # sensibilidade + especificidade -1\n",
    "                          'threshold' : pd.Series(thresholds, index = i)}) # thresholds testados\n",
    "\n",
    "df_thresholds = df_thresholds.sort_values(by = \"J\", ascending = False)\n",
    "corte = df_thresholds.iloc[0][\"J\"]\n",
    "print(\"O threshold ótimo é de: \", round(corte, 3))\n",
    "\n",
    "# Criando Curva ROC\n",
    "y_pred_proba = modelo.predict_proba(X_train)[::,1] # Probabilidade de Y = 1 \n",
    "fpr, tpr, thresholds = roc_curve(y_train,  y_pred_proba)\n",
    "\n",
    "plt.scatter(df_thresholds.iloc[0][\"fpr\"], df_thresholds.iloc[0][\"tpr\"], marker = 'o', color='black', label='Threshold Ótimo', linewidth = 4)\n",
    "plt.plot([0,1], [0,1], linestyle = '--', label = 'Modelo Naive')\n",
    "plt.plot(fpr, tpr, label = 'Modelo Logístico')\n",
    "plt.ylabel('True Positive Rate')\n",
    "plt.xlabel('False Positive Rate')\n",
    "plt.title(\"ROC - Receiver Operating Characteristic\")\n",
    "plt.legend()\n",
    "plt.show()"
   ]
  },
  {
   "cell_type": "markdown",
   "metadata": {},
   "source": [
    "# Resultados e Discussões\n",
    "\n",
    "(preencher com análises)"
   ]
  },
  {
   "cell_type": "markdown",
   "metadata": {},
   "source": [
    "##### Variáveis mais relevantes"
   ]
  },
  {
   "cell_type": "code",
   "execution_count": 41,
   "metadata": {},
   "outputs": [
    {
     "data": {
      "text/html": [
       "<div>\n",
       "<style scoped>\n",
       "    .dataframe tbody tr th:only-of-type {\n",
       "        vertical-align: middle;\n",
       "    }\n",
       "\n",
       "    .dataframe tbody tr th {\n",
       "        vertical-align: top;\n",
       "    }\n",
       "\n",
       "    .dataframe thead th {\n",
       "        text-align: right;\n",
       "    }\n",
       "</style>\n",
       "<table border=\"1\" class=\"dataframe\">\n",
       "  <thead>\n",
       "    <tr style=\"text-align: right;\">\n",
       "      <th></th>\n",
       "      <th>Variável</th>\n",
       "      <th>Coeficiente</th>\n",
       "    </tr>\n",
       "  </thead>\n",
       "  <tbody>\n",
       "    <tr>\n",
       "      <th>8</th>\n",
       "      <td>CPI</td>\n",
       "      <td>0.4989</td>\n",
       "    </tr>\n",
       "    <tr>\n",
       "      <th>6</th>\n",
       "      <td>resultado_anterior</td>\n",
       "      <td>0.3240</td>\n",
       "    </tr>\n",
       "    <tr>\n",
       "      <th>5</th>\n",
       "      <td>contatos_anteriores</td>\n",
       "      <td>0.1619</td>\n",
       "    </tr>\n",
       "  </tbody>\n",
       "</table>\n",
       "</div>"
      ],
      "text/plain": [
       "              Variável  Coeficiente\n",
       "8                  CPI       0.4989\n",
       "6   resultado_anterior       0.3240\n",
       "5  contatos_anteriores       0.1619"
      ]
     },
     "execution_count": 41,
     "metadata": {},
     "output_type": "execute_result"
    }
   ],
   "source": [
    "# Coeficientes do Modelo (variáveis mais relevantes)\n",
    "coefs = []\n",
    "for i in range(len(modelo.feature_names_in_)): \n",
    "    coefs.append([list(modelo.feature_names_in_)[i], round(modelo.coef_[0][i], 4)])\n",
    "\n",
    "coefs = pd.DataFrame(coefs, columns=[\"Variável\", \"Coeficiente\"]).sort_values(by=\"Coeficiente\", ascending=False)\n",
    "\n",
    "coefs.head(3) # Maiores coeficientes\n",
    "#coefs.tail(3) # Menores coeficientes"
   ]
  },
  {
   "cell_type": "markdown",
   "metadata": {},
   "source": [
    "##### Distribuição das Previsões"
   ]
  },
  {
   "cell_type": "code",
   "execution_count": 42,
   "metadata": {},
   "outputs": [
    {
     "data": {
      "text/plain": [
       "array([0.01773693, 0.01466012, 0.999478  , ..., 0.75790756, 0.01107901,\n",
       "       0.09009683])"
      ]
     },
     "execution_count": 42,
     "metadata": {},
     "output_type": "execute_result"
    }
   ],
   "source": [
    "# Probabilidades de que Y=1 para cada observação do teste (printar gráfico)\n",
    "y_pred_proba"
   ]
  },
  {
   "attachments": {
    "image.png": {
     "image/png": "[encoded data removed]"
    }
   },
   "cell_type": "markdown",
   "metadata": {},
   "source": [
    "##### Aprimorando o Modelo\n",
    "\n",
    "É possível aprimorar o modelo utilizando diversas técnicas para realizar sua otimização de maneira cada vez menos enviesada. Nesse exemplo, vamos demonstrar a aplicação da validação cruzada e da regularização do tipo L2.\n",
    "\n",
    "* **Validação Cruzada (cross-validation):** Dividimos a base de dados em k subconjuntos. A ideia é de que sejam estimados k modelos diferentes e as métricas de avaliação do modelo final sejam calculadas como uma média simples das métricas obtidas para cada modelo. O modelo final pode ser ajustado em cima de todo o conjunto de dados. Essa estratégia é cara computacionalmente, por isso é aplicada preferencialmente em conjuntos de dados pequenos.\n",
    "\n",
    "![image.png](attachment:image.png)\n",
    "\n",
    "* **Regularização:** É um tipo de técnica utilizada para reduzir a variância dos modelos de machine learning, ou seja, reduzir sua sensibilidade aos dados de treinamento, e melhorando seu desempenho ao prever os dados de teste. A particularidade da regularização L2 consiste em permitir reduzir todos os coeficientes da regressão em uma mesma proporção, de forma assintótica em torno do zero. Em grosso modo, pode-se dizer que todos os coeficientes são reduzidos com base em seu valor relativo aos demais, e assim eliminando os menos relevantes que podem gerar ruídos indesejados."
   ]
  },
  {
   "cell_type": "code",
   "execution_count": 43,
   "metadata": {},
   "outputs": [
    {
     "name": "stdout",
     "output_type": "stream",
     "text": [
      "----------------------------------------------------------------------------\n",
      "Matriz de Confusão\n",
      "[[6635  157]\n",
      " [ 508  349]] \n",
      "\n",
      "----------------------------------------------------------------------------\n",
      "Relatório de Métricas\n",
      "              precision    recall  f1-score   support\n",
      "\n",
      "           0     0.9289    0.9769    0.9523      6792\n",
      "           1     0.6897    0.4072    0.5121       857\n",
      "\n",
      "    accuracy                         0.9131      7649\n",
      "   macro avg     0.8093    0.6921    0.7322      7649\n",
      "weighted avg     0.9021    0.9131    0.9030      7649\n",
      "\n",
      "----------------------------------------------------------------------------\n",
      "AUC - Teste : 0.6921\n"
     ]
    }
   ],
   "source": [
    "# novo modelo com cross-validation e regularização L2 maximizando ROC-AUC\n",
    "from sklearn.linear_model import LogisticRegressionCV\n",
    "modelo_cv = LogisticRegressionCV(cv=5, scoring=\"roc_auc\")\n",
    "modelo_cv.fit(X_train, y_train)\n",
    "y_pred_cv = modelo_cv.predict(X_test)\n",
    "\n",
    "# Matriz de Confusão\n",
    "print(\"----------------------------------------------------------------------------\")\n",
    "print(\"Matriz de Confusão\")\n",
    "print(confusion_matrix(y_test, y_pred_cv), \"\\n\")\n",
    "\n",
    "# Métricas de Avaliação\n",
    "print(\"----------------------------------------------------------------------------\")\n",
    "print(\"Relatório de Métricas\")\n",
    "print(classification_report(y_test, y_pred_cv, digits=4))\n",
    "\n",
    "# Calculando a AUC (Area Under the Curve)\n",
    "print(\"----------------------------------------------------------------------------\")\n",
    "fpr, tpr, thresholds = roc_curve(y_test, y_pred_cv)\n",
    "roc_auc = auc(fpr, tpr)\n",
    "\n",
    "print(\"AUC - Teste :\", round(roc_auc, 4))"
   ]
  },
  {
   "cell_type": "markdown",
   "metadata": {},
   "source": [
    "Nota-se que os resultados obtidos foram aprimorados, entretanto o tempo de estimação do modelo aumentou de 0.5s para 10s."
   ]
  }
 ],
 "metadata": {
  "kernelspec": {
   "display_name": "Python 3",
   "language": "python",
   "name": "python3"
  },
  "language_info": {
   "codemirror_mode": {
    "name": "ipython",
    "version": 3
   },
   "file_extension": ".py",
   "mimetype": "text/x-python",
   "name": "python",
   "nbconvert_exporter": "python",
   "pygments_lexer": "ipython3",
   "version": "3.8.5"
  },
  "orig_nbformat": 4
 },
 "nbformat": 4,
 "nbformat_minor": 2
}
